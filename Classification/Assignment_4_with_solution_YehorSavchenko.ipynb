{
  "cells": [
    {
      "cell_type": "markdown",
      "metadata": {
        "id": "-QLWdeXrk7TT"
      },
      "source": [
        "### Today we are going to perform the simple classification of the amazon reviews' sentiment.\n",
        "\n",
        "### Please, download the dataset amazon_baby.csv."
      ]
    },
    {
      "cell_type": "code",
      "execution_count": 394,
      "metadata": {
        "colab": {
          "base_uri": "https://localhost:8080/",
          "height": 206
        },
        "id": "vmfyN0ZUk7TV",
        "outputId": "ccf506d0-49a3-4ac1-eb7d-eb0d8200ab1a"
      },
      "outputs": [
        {
          "output_type": "execute_result",
          "data": {
            "text/plain": [
              "                                                name  \\\n",
              "0                           Planetwise Flannel Wipes   \n",
              "1                              Planetwise Wipe Pouch   \n",
              "2                Annas Dream Full Quilt with 2 Shams   \n",
              "3  Stop Pacifier Sucking without tears with Thumb...   \n",
              "4  Stop Pacifier Sucking without tears with Thumb...   \n",
              "\n",
              "                                              review  rating  \n",
              "0  These flannel wipes are OK, but in my opinion ...       3  \n",
              "1  it came early and was not disappointed. i love...       5  \n",
              "2  Very soft and comfortable and warmer than it l...       5  \n",
              "3  This is a product well worth the purchase.  I ...       5  \n",
              "4  All of my kids have cried non-stop when I trie...       5  "
            ],
            "text/html": [
              "\n",
              "  <div id=\"df-822076b8-91ae-4c55-a6f1-da09df73ba78\">\n",
              "    <div class=\"colab-df-container\">\n",
              "      <div>\n",
              "<style scoped>\n",
              "    .dataframe tbody tr th:only-of-type {\n",
              "        vertical-align: middle;\n",
              "    }\n",
              "\n",
              "    .dataframe tbody tr th {\n",
              "        vertical-align: top;\n",
              "    }\n",
              "\n",
              "    .dataframe thead th {\n",
              "        text-align: right;\n",
              "    }\n",
              "</style>\n",
              "<table border=\"1\" class=\"dataframe\">\n",
              "  <thead>\n",
              "    <tr style=\"text-align: right;\">\n",
              "      <th></th>\n",
              "      <th>name</th>\n",
              "      <th>review</th>\n",
              "      <th>rating</th>\n",
              "    </tr>\n",
              "  </thead>\n",
              "  <tbody>\n",
              "    <tr>\n",
              "      <th>0</th>\n",
              "      <td>Planetwise Flannel Wipes</td>\n",
              "      <td>These flannel wipes are OK, but in my opinion ...</td>\n",
              "      <td>3</td>\n",
              "    </tr>\n",
              "    <tr>\n",
              "      <th>1</th>\n",
              "      <td>Planetwise Wipe Pouch</td>\n",
              "      <td>it came early and was not disappointed. i love...</td>\n",
              "      <td>5</td>\n",
              "    </tr>\n",
              "    <tr>\n",
              "      <th>2</th>\n",
              "      <td>Annas Dream Full Quilt with 2 Shams</td>\n",
              "      <td>Very soft and comfortable and warmer than it l...</td>\n",
              "      <td>5</td>\n",
              "    </tr>\n",
              "    <tr>\n",
              "      <th>3</th>\n",
              "      <td>Stop Pacifier Sucking without tears with Thumb...</td>\n",
              "      <td>This is a product well worth the purchase.  I ...</td>\n",
              "      <td>5</td>\n",
              "    </tr>\n",
              "    <tr>\n",
              "      <th>4</th>\n",
              "      <td>Stop Pacifier Sucking without tears with Thumb...</td>\n",
              "      <td>All of my kids have cried non-stop when I trie...</td>\n",
              "      <td>5</td>\n",
              "    </tr>\n",
              "  </tbody>\n",
              "</table>\n",
              "</div>\n",
              "      <button class=\"colab-df-convert\" onclick=\"convertToInteractive('df-822076b8-91ae-4c55-a6f1-da09df73ba78')\"\n",
              "              title=\"Convert this dataframe to an interactive table.\"\n",
              "              style=\"display:none;\">\n",
              "        \n",
              "  <svg xmlns=\"http://www.w3.org/2000/svg\" height=\"24px\"viewBox=\"0 0 24 24\"\n",
              "       width=\"24px\">\n",
              "    <path d=\"M0 0h24v24H0V0z\" fill=\"none\"/>\n",
              "    <path d=\"M18.56 5.44l.94 2.06.94-2.06 2.06-.94-2.06-.94-.94-2.06-.94 2.06-2.06.94zm-11 1L8.5 8.5l.94-2.06 2.06-.94-2.06-.94L8.5 2.5l-.94 2.06-2.06.94zm10 10l.94 2.06.94-2.06 2.06-.94-2.06-.94-.94-2.06-.94 2.06-2.06.94z\"/><path d=\"M17.41 7.96l-1.37-1.37c-.4-.4-.92-.59-1.43-.59-.52 0-1.04.2-1.43.59L10.3 9.45l-7.72 7.72c-.78.78-.78 2.05 0 2.83L4 21.41c.39.39.9.59 1.41.59.51 0 1.02-.2 1.41-.59l7.78-7.78 2.81-2.81c.8-.78.8-2.07 0-2.86zM5.41 20L4 18.59l7.72-7.72 1.47 1.35L5.41 20z\"/>\n",
              "  </svg>\n",
              "      </button>\n",
              "      \n",
              "  <style>\n",
              "    .colab-df-container {\n",
              "      display:flex;\n",
              "      flex-wrap:wrap;\n",
              "      gap: 12px;\n",
              "    }\n",
              "\n",
              "    .colab-df-convert {\n",
              "      background-color: #E8F0FE;\n",
              "      border: none;\n",
              "      border-radius: 50%;\n",
              "      cursor: pointer;\n",
              "      display: none;\n",
              "      fill: #1967D2;\n",
              "      height: 32px;\n",
              "      padding: 0 0 0 0;\n",
              "      width: 32px;\n",
              "    }\n",
              "\n",
              "    .colab-df-convert:hover {\n",
              "      background-color: #E2EBFA;\n",
              "      box-shadow: 0px 1px 2px rgba(60, 64, 67, 0.3), 0px 1px 3px 1px rgba(60, 64, 67, 0.15);\n",
              "      fill: #174EA6;\n",
              "    }\n",
              "\n",
              "    [theme=dark] .colab-df-convert {\n",
              "      background-color: #3B4455;\n",
              "      fill: #D2E3FC;\n",
              "    }\n",
              "\n",
              "    [theme=dark] .colab-df-convert:hover {\n",
              "      background-color: #434B5C;\n",
              "      box-shadow: 0px 1px 3px 1px rgba(0, 0, 0, 0.15);\n",
              "      filter: drop-shadow(0px 1px 2px rgba(0, 0, 0, 0.3));\n",
              "      fill: #FFFFFF;\n",
              "    }\n",
              "  </style>\n",
              "\n",
              "      <script>\n",
              "        const buttonEl =\n",
              "          document.querySelector('#df-822076b8-91ae-4c55-a6f1-da09df73ba78 button.colab-df-convert');\n",
              "        buttonEl.style.display =\n",
              "          google.colab.kernel.accessAllowed ? 'block' : 'none';\n",
              "\n",
              "        async function convertToInteractive(key) {\n",
              "          const element = document.querySelector('#df-822076b8-91ae-4c55-a6f1-da09df73ba78');\n",
              "          const dataTable =\n",
              "            await google.colab.kernel.invokeFunction('convertToInteractive',\n",
              "                                                     [key], {});\n",
              "          if (!dataTable) return;\n",
              "\n",
              "          const docLinkHtml = 'Like what you see? Visit the ' +\n",
              "            '<a target=\"_blank\" href=https://colab.research.google.com/notebooks/data_table.ipynb>data table notebook</a>'\n",
              "            + ' to learn more about interactive tables.';\n",
              "          element.innerHTML = '';\n",
              "          dataTable['output_type'] = 'display_data';\n",
              "          await google.colab.output.renderOutput(dataTable, element);\n",
              "          const docLink = document.createElement('div');\n",
              "          docLink.innerHTML = docLinkHtml;\n",
              "          element.appendChild(docLink);\n",
              "        }\n",
              "      </script>\n",
              "    </div>\n",
              "  </div>\n",
              "  "
            ]
          },
          "metadata": {},
          "execution_count": 394
        }
      ],
      "source": [
        "import pandas as pd\n",
        "import numpy as np\n",
        "import matplotlib.pyplot as plt\n",
        "import string\n",
        "from sklearn.linear_model import LogisticRegression\n",
        "\n",
        "def remove_punctuation(text):\n",
        "    import string\n",
        "    translator = str.maketrans('', '', string.punctuation)\n",
        "    return text.translate(translator)\n",
        "\n",
        "baby_df = pd.read_csv('amazon_baby.csv')\n",
        "baby_df.head()"
      ]
    },
    {
      "cell_type": "markdown",
      "metadata": {
        "id": "wHBUjm8fk7TW"
      },
      "source": [
        "## Exercise 1 (data preparation)\n",
        "a) Remove punctuation from reviews using the given function.   \n",
        "b) Replace all missing (nan) revies with empty \"\" string.  \n",
        "c) Drop all the entries with rating = 3, as they have neutral sentiment.   \n",
        "d) Set all positive ($\\geq$4) ratings to 1 and negative($\\leq$2) to -1."
      ]
    },
    {
      "cell_type": "markdown",
      "source": [
        "##Comment\n",
        "\n",
        "First step for prepearing data it's remove punctuation from reviews. It will be better for our model. I did by using regex pattern for punctuations and replace it by empty string. And showed short test for index = 3"
      ],
      "metadata": {
        "id": "uqUMZWuA3zxy"
      }
    },
    {
      "cell_type": "code",
      "execution_count": 357,
      "metadata": {
        "colab": {
          "base_uri": "https://localhost:8080/"
        },
        "id": "NqpVZSzEk7TW",
        "outputId": "9e872627-0f50-49ce-a4cd-91d86231002c"
      },
      "outputs": [
        {
          "output_type": "stream",
          "name": "stderr",
          "text": [
            "<ipython-input-357-9f11ee4d0f17>:2: FutureWarning: The default value of regex will change from True to False in a future version.\n",
            "  baby_df['review'] = baby_df['review'].str.replace(r'[^\\w\\s]+', '')\n"
          ]
        },
        {
          "output_type": "execute_result",
          "data": {
            "text/plain": [
              "True"
            ]
          },
          "metadata": {},
          "execution_count": 357
        }
      ],
      "source": [
        "#a)\n",
        "baby_df['review'] = baby_df['review'].str.replace(r'[^\\w\\s]+', '')\n",
        "#short test: \n",
        "baby_df[\"review\"][4] == 'All of my kids have cried nonstop when I tried to ween them off their pacifier until I found Thumbuddy To Loves Binky Fairy Puppet  It is an easy way to work with your kids to allow them to understand where their pacifier is going and help them part from itThis is a must buy book and a great gift for expecting parents  You will save them soo many headachesThanks for this book  You all rock'\n",
        "remove_punctuation(baby_df[\"review\"][4]) == 'All of my kids have cried nonstop when I tried to ween them off their pacifier until I found Thumbuddy To Loves Binky Fairy Puppet  It is an easy way to work with your kids to allow them to understand where their pacifier is going and help them part from itThis is a must buy book and a great gift for expecting parents  You will save them soo many headachesThanks for this book  You all rock'"
      ]
    },
    {
      "cell_type": "code",
      "source": [
        "baby_df[\"review\"][3] == 'This is a product well worth the purchase  I have not found anything else like this and it is a positive ingenious approach to losing the binky  What I love most about this product is how much ownership my daughter has in getting rid of the binky  She is so proud of herself and loves her little fairy  I love the artwork the chart in the back and the clever approach of this tool'"
      ],
      "metadata": {
        "colab": {
          "base_uri": "https://localhost:8080/"
        },
        "id": "F8hXVqbdtVqA",
        "outputId": "609b1aac-85a9-4770-96bf-e31610cb2086"
      },
      "execution_count": 358,
      "outputs": [
        {
          "output_type": "execute_result",
          "data": {
            "text/plain": [
              "True"
            ]
          },
          "metadata": {},
          "execution_count": 358
        }
      ]
    },
    {
      "cell_type": "markdown",
      "source": [
        "## Comment\n",
        "\n",
        "Here I replaced all missing (nan) revies with empty \"\" string."
      ],
      "metadata": {
        "id": "cZ-7X98T4qTx"
      }
    },
    {
      "cell_type": "code",
      "execution_count": 359,
      "metadata": {
        "colab": {
          "base_uri": "https://localhost:8080/"
        },
        "id": "AxQ7hDTAk7TX",
        "outputId": "15e11ad1-a5db-4c9c-ccc4-fbf8f587c1da"
      },
      "outputs": [
        {
          "output_type": "execute_result",
          "data": {
            "text/plain": [
              "True"
            ]
          },
          "metadata": {},
          "execution_count": 359
        }
      ],
      "source": [
        "#b)\n",
        "baby_df['review'] = baby_df['review'].fillna(\"\")\n",
        "#short test:\n",
        "baby_df[\"review\"][38] == baby_df[\"review\"][38]"
      ]
    },
    {
      "cell_type": "code",
      "source": [
        "baby_df[\"review\"][38]"
      ],
      "metadata": {
        "colab": {
          "base_uri": "https://localhost:8080/",
          "height": 38
        },
        "id": "x2GEqF9Ttq2q",
        "outputId": "8bf0e25d-25e1-4e7d-e52d-3d700016016a"
      },
      "execution_count": 360,
      "outputs": [
        {
          "output_type": "execute_result",
          "data": {
            "text/plain": [
              "''"
            ],
            "application/vnd.google.colaboratory.intrinsic+json": {
              "type": "string"
            }
          },
          "metadata": {},
          "execution_count": 360
        }
      ]
    },
    {
      "cell_type": "markdown",
      "source": [
        "## Comment\n",
        "\n",
        "Here I droped all the entries with rating = 3, as they have neutral sentiment."
      ],
      "metadata": {
        "id": "MMA0da0Y401o"
      }
    },
    {
      "cell_type": "code",
      "execution_count": 361,
      "metadata": {
        "colab": {
          "base_uri": "https://localhost:8080/"
        },
        "id": "KomKbzKfk7TX",
        "outputId": "1d5b3174-5a97-40c0-a068-e0712715fd7c"
      },
      "outputs": [
        {
          "output_type": "execute_result",
          "data": {
            "text/plain": [
              "0"
            ]
          },
          "metadata": {},
          "execution_count": 361
        }
      ],
      "source": [
        "#c)\n",
        "baby_df = baby_df.drop(baby_df[baby_df.rating == 3].index)\n",
        "#short test:\n",
        "sum(baby_df[\"rating\"] == 3)"
      ]
    },
    {
      "cell_type": "markdown",
      "source": [
        "## Comment\n",
        "\n",
        " I set all positive ( ≥ 4) ratings to 1 and negative( ≤ 2) to -1.\n",
        " I did it by using mask function and I showed for different index"
      ],
      "metadata": {
        "id": "XhSi7WSg47aI"
      }
    },
    {
      "cell_type": "code",
      "execution_count": 362,
      "metadata": {
        "colab": {
          "base_uri": "https://localhost:8080/"
        },
        "id": "1Wre4vihk7TX",
        "outputId": "aaf33f10-005d-4d4c-fc7e-eb42453eafe2"
      },
      "outputs": [
        {
          "output_type": "execute_result",
          "data": {
            "text/plain": [
              "0"
            ]
          },
          "metadata": {},
          "execution_count": 362
        }
      ],
      "source": [
        "#d) \n",
        "baby_df['rating'].mask(baby_df['rating'] <= 2, -1, inplace=True)\n",
        "baby_df['rating'].mask(baby_df['rating'] >= 4, 1, inplace=True)\n",
        "#baby_df.loc[baby_df[\"rating\"] <= 2, \"rating\"] = -1\n",
        "#short test:\n",
        "sum(baby_df[\"rating\"]**2 != 1)"
      ]
    },
    {
      "cell_type": "code",
      "source": [
        "baby_df.head(25)"
      ],
      "metadata": {
        "colab": {
          "base_uri": "https://localhost:8080/",
          "height": 833
        },
        "id": "ZAlblPW_v5XR",
        "outputId": "59a24164-b7e7-4acd-bf95-9143326a3a9e"
      },
      "execution_count": 363,
      "outputs": [
        {
          "output_type": "execute_result",
          "data": {
            "text/plain": [
              "                                                 name  \\\n",
              "1                               Planetwise Wipe Pouch   \n",
              "2                 Annas Dream Full Quilt with 2 Shams   \n",
              "3   Stop Pacifier Sucking without tears with Thumb...   \n",
              "4   Stop Pacifier Sucking without tears with Thumb...   \n",
              "5   Stop Pacifier Sucking without tears with Thumb...   \n",
              "6             A Tale of Baby's Days with Peter Rabbit   \n",
              "7   Baby Tracker&reg; - Daily Childcare Journal, S...   \n",
              "8   Baby Tracker&reg; - Daily Childcare Journal, S...   \n",
              "9   Baby Tracker&reg; - Daily Childcare Journal, S...   \n",
              "10  Baby Tracker&reg; - Daily Childcare Journal, S...   \n",
              "11  Baby Tracker&reg; - Daily Childcare Journal, S...   \n",
              "12  Baby Tracker&reg; - Daily Childcare Journal, S...   \n",
              "14     Nature's Lullabies First Year Sticker Calendar   \n",
              "15     Nature's Lullabies First Year Sticker Calendar   \n",
              "16     Nature's Lullabies First Year Sticker Calendar   \n",
              "17    Nature's Lullabies Second Year Sticker Calendar   \n",
              "18    Nature's Lullabies Second Year Sticker Calendar   \n",
              "19    Nature's Lullabies Second Year Sticker Calendar   \n",
              "20    Nature's Lullabies Second Year Sticker Calendar   \n",
              "21    Nature's Lullabies Second Year Sticker Calendar   \n",
              "22    Nature's Lullabies Second Year Sticker Calendar   \n",
              "24    Nature's Lullabies Second Year Sticker Calendar   \n",
              "25    Nature's Lullabies Second Year Sticker Calendar   \n",
              "26                       Baby's First Journal - Green   \n",
              "28                        Lamaze Peekaboo, I Love You   \n",
              "\n",
              "                                               review  rating  \n",
              "1   it came early and was not disappointed i love ...       1  \n",
              "2   Very soft and comfortable and warmer than it l...       1  \n",
              "3   This is a product well worth the purchase  I h...       1  \n",
              "4   All of my kids have cried nonstop when I tried...       1  \n",
              "5   When the Binky Fairy came to our house we didn...       1  \n",
              "6   Lovely book its bound tightly so you may not b...       1  \n",
              "7   Perfect for new parents We were able to keep t...       1  \n",
              "8   A friend of mine pinned this product on Pinter...       1  \n",
              "9   This has been an easy way for my nanny to reco...       1  \n",
              "10  I love this journal and our nanny uses it ever...       1  \n",
              "11  This book is perfect  Im a first time new mom ...       1  \n",
              "12  I originally just gave the nanny a pad of pape...       1  \n",
              "14  Space for monthly photos info and a lot of use...       1  \n",
              "15  I bought this calender for myself for my secon...       1  \n",
              "16  I love this little calender you can keep track...       1  \n",
              "17  This was the only calender I could find for th...       1  \n",
              "18  I completed a calendar for my sons first year ...       1  \n",
              "19  We wanted to get something to keep track of ou...       1  \n",
              "20  I had a hard time finding a second year calend...       1  \n",
              "21  I only purchased a secondyear calendar for my ...      -1  \n",
              "22  I LOVE this calendar for recording events of m...       1  \n",
              "24  Wife loves this calender Comes with a lot of s...       1  \n",
              "25  My daughter had her 1st baby over a year ago S...       1  \n",
              "26  Extremely useful As a new mom tired and inexpe...       1  \n",
              "28  One of babys first and favorite books and it i...       1  "
            ],
            "text/html": [
              "\n",
              "  <div id=\"df-1dfffc45-6ae6-4932-815b-812823c31d68\">\n",
              "    <div class=\"colab-df-container\">\n",
              "      <div>\n",
              "<style scoped>\n",
              "    .dataframe tbody tr th:only-of-type {\n",
              "        vertical-align: middle;\n",
              "    }\n",
              "\n",
              "    .dataframe tbody tr th {\n",
              "        vertical-align: top;\n",
              "    }\n",
              "\n",
              "    .dataframe thead th {\n",
              "        text-align: right;\n",
              "    }\n",
              "</style>\n",
              "<table border=\"1\" class=\"dataframe\">\n",
              "  <thead>\n",
              "    <tr style=\"text-align: right;\">\n",
              "      <th></th>\n",
              "      <th>name</th>\n",
              "      <th>review</th>\n",
              "      <th>rating</th>\n",
              "    </tr>\n",
              "  </thead>\n",
              "  <tbody>\n",
              "    <tr>\n",
              "      <th>1</th>\n",
              "      <td>Planetwise Wipe Pouch</td>\n",
              "      <td>it came early and was not disappointed i love ...</td>\n",
              "      <td>1</td>\n",
              "    </tr>\n",
              "    <tr>\n",
              "      <th>2</th>\n",
              "      <td>Annas Dream Full Quilt with 2 Shams</td>\n",
              "      <td>Very soft and comfortable and warmer than it l...</td>\n",
              "      <td>1</td>\n",
              "    </tr>\n",
              "    <tr>\n",
              "      <th>3</th>\n",
              "      <td>Stop Pacifier Sucking without tears with Thumb...</td>\n",
              "      <td>This is a product well worth the purchase  I h...</td>\n",
              "      <td>1</td>\n",
              "    </tr>\n",
              "    <tr>\n",
              "      <th>4</th>\n",
              "      <td>Stop Pacifier Sucking without tears with Thumb...</td>\n",
              "      <td>All of my kids have cried nonstop when I tried...</td>\n",
              "      <td>1</td>\n",
              "    </tr>\n",
              "    <tr>\n",
              "      <th>5</th>\n",
              "      <td>Stop Pacifier Sucking without tears with Thumb...</td>\n",
              "      <td>When the Binky Fairy came to our house we didn...</td>\n",
              "      <td>1</td>\n",
              "    </tr>\n",
              "    <tr>\n",
              "      <th>6</th>\n",
              "      <td>A Tale of Baby's Days with Peter Rabbit</td>\n",
              "      <td>Lovely book its bound tightly so you may not b...</td>\n",
              "      <td>1</td>\n",
              "    </tr>\n",
              "    <tr>\n",
              "      <th>7</th>\n",
              "      <td>Baby Tracker&amp;reg; - Daily Childcare Journal, S...</td>\n",
              "      <td>Perfect for new parents We were able to keep t...</td>\n",
              "      <td>1</td>\n",
              "    </tr>\n",
              "    <tr>\n",
              "      <th>8</th>\n",
              "      <td>Baby Tracker&amp;reg; - Daily Childcare Journal, S...</td>\n",
              "      <td>A friend of mine pinned this product on Pinter...</td>\n",
              "      <td>1</td>\n",
              "    </tr>\n",
              "    <tr>\n",
              "      <th>9</th>\n",
              "      <td>Baby Tracker&amp;reg; - Daily Childcare Journal, S...</td>\n",
              "      <td>This has been an easy way for my nanny to reco...</td>\n",
              "      <td>1</td>\n",
              "    </tr>\n",
              "    <tr>\n",
              "      <th>10</th>\n",
              "      <td>Baby Tracker&amp;reg; - Daily Childcare Journal, S...</td>\n",
              "      <td>I love this journal and our nanny uses it ever...</td>\n",
              "      <td>1</td>\n",
              "    </tr>\n",
              "    <tr>\n",
              "      <th>11</th>\n",
              "      <td>Baby Tracker&amp;reg; - Daily Childcare Journal, S...</td>\n",
              "      <td>This book is perfect  Im a first time new mom ...</td>\n",
              "      <td>1</td>\n",
              "    </tr>\n",
              "    <tr>\n",
              "      <th>12</th>\n",
              "      <td>Baby Tracker&amp;reg; - Daily Childcare Journal, S...</td>\n",
              "      <td>I originally just gave the nanny a pad of pape...</td>\n",
              "      <td>1</td>\n",
              "    </tr>\n",
              "    <tr>\n",
              "      <th>14</th>\n",
              "      <td>Nature's Lullabies First Year Sticker Calendar</td>\n",
              "      <td>Space for monthly photos info and a lot of use...</td>\n",
              "      <td>1</td>\n",
              "    </tr>\n",
              "    <tr>\n",
              "      <th>15</th>\n",
              "      <td>Nature's Lullabies First Year Sticker Calendar</td>\n",
              "      <td>I bought this calender for myself for my secon...</td>\n",
              "      <td>1</td>\n",
              "    </tr>\n",
              "    <tr>\n",
              "      <th>16</th>\n",
              "      <td>Nature's Lullabies First Year Sticker Calendar</td>\n",
              "      <td>I love this little calender you can keep track...</td>\n",
              "      <td>1</td>\n",
              "    </tr>\n",
              "    <tr>\n",
              "      <th>17</th>\n",
              "      <td>Nature's Lullabies Second Year Sticker Calendar</td>\n",
              "      <td>This was the only calender I could find for th...</td>\n",
              "      <td>1</td>\n",
              "    </tr>\n",
              "    <tr>\n",
              "      <th>18</th>\n",
              "      <td>Nature's Lullabies Second Year Sticker Calendar</td>\n",
              "      <td>I completed a calendar for my sons first year ...</td>\n",
              "      <td>1</td>\n",
              "    </tr>\n",
              "    <tr>\n",
              "      <th>19</th>\n",
              "      <td>Nature's Lullabies Second Year Sticker Calendar</td>\n",
              "      <td>We wanted to get something to keep track of ou...</td>\n",
              "      <td>1</td>\n",
              "    </tr>\n",
              "    <tr>\n",
              "      <th>20</th>\n",
              "      <td>Nature's Lullabies Second Year Sticker Calendar</td>\n",
              "      <td>I had a hard time finding a second year calend...</td>\n",
              "      <td>1</td>\n",
              "    </tr>\n",
              "    <tr>\n",
              "      <th>21</th>\n",
              "      <td>Nature's Lullabies Second Year Sticker Calendar</td>\n",
              "      <td>I only purchased a secondyear calendar for my ...</td>\n",
              "      <td>-1</td>\n",
              "    </tr>\n",
              "    <tr>\n",
              "      <th>22</th>\n",
              "      <td>Nature's Lullabies Second Year Sticker Calendar</td>\n",
              "      <td>I LOVE this calendar for recording events of m...</td>\n",
              "      <td>1</td>\n",
              "    </tr>\n",
              "    <tr>\n",
              "      <th>24</th>\n",
              "      <td>Nature's Lullabies Second Year Sticker Calendar</td>\n",
              "      <td>Wife loves this calender Comes with a lot of s...</td>\n",
              "      <td>1</td>\n",
              "    </tr>\n",
              "    <tr>\n",
              "      <th>25</th>\n",
              "      <td>Nature's Lullabies Second Year Sticker Calendar</td>\n",
              "      <td>My daughter had her 1st baby over a year ago S...</td>\n",
              "      <td>1</td>\n",
              "    </tr>\n",
              "    <tr>\n",
              "      <th>26</th>\n",
              "      <td>Baby's First Journal - Green</td>\n",
              "      <td>Extremely useful As a new mom tired and inexpe...</td>\n",
              "      <td>1</td>\n",
              "    </tr>\n",
              "    <tr>\n",
              "      <th>28</th>\n",
              "      <td>Lamaze Peekaboo, I Love You</td>\n",
              "      <td>One of babys first and favorite books and it i...</td>\n",
              "      <td>1</td>\n",
              "    </tr>\n",
              "  </tbody>\n",
              "</table>\n",
              "</div>\n",
              "      <button class=\"colab-df-convert\" onclick=\"convertToInteractive('df-1dfffc45-6ae6-4932-815b-812823c31d68')\"\n",
              "              title=\"Convert this dataframe to an interactive table.\"\n",
              "              style=\"display:none;\">\n",
              "        \n",
              "  <svg xmlns=\"http://www.w3.org/2000/svg\" height=\"24px\"viewBox=\"0 0 24 24\"\n",
              "       width=\"24px\">\n",
              "    <path d=\"M0 0h24v24H0V0z\" fill=\"none\"/>\n",
              "    <path d=\"M18.56 5.44l.94 2.06.94-2.06 2.06-.94-2.06-.94-.94-2.06-.94 2.06-2.06.94zm-11 1L8.5 8.5l.94-2.06 2.06-.94-2.06-.94L8.5 2.5l-.94 2.06-2.06.94zm10 10l.94 2.06.94-2.06 2.06-.94-2.06-.94-.94-2.06-.94 2.06-2.06.94z\"/><path d=\"M17.41 7.96l-1.37-1.37c-.4-.4-.92-.59-1.43-.59-.52 0-1.04.2-1.43.59L10.3 9.45l-7.72 7.72c-.78.78-.78 2.05 0 2.83L4 21.41c.39.39.9.59 1.41.59.51 0 1.02-.2 1.41-.59l7.78-7.78 2.81-2.81c.8-.78.8-2.07 0-2.86zM5.41 20L4 18.59l7.72-7.72 1.47 1.35L5.41 20z\"/>\n",
              "  </svg>\n",
              "      </button>\n",
              "      \n",
              "  <style>\n",
              "    .colab-df-container {\n",
              "      display:flex;\n",
              "      flex-wrap:wrap;\n",
              "      gap: 12px;\n",
              "    }\n",
              "\n",
              "    .colab-df-convert {\n",
              "      background-color: #E8F0FE;\n",
              "      border: none;\n",
              "      border-radius: 50%;\n",
              "      cursor: pointer;\n",
              "      display: none;\n",
              "      fill: #1967D2;\n",
              "      height: 32px;\n",
              "      padding: 0 0 0 0;\n",
              "      width: 32px;\n",
              "    }\n",
              "\n",
              "    .colab-df-convert:hover {\n",
              "      background-color: #E2EBFA;\n",
              "      box-shadow: 0px 1px 2px rgba(60, 64, 67, 0.3), 0px 1px 3px 1px rgba(60, 64, 67, 0.15);\n",
              "      fill: #174EA6;\n",
              "    }\n",
              "\n",
              "    [theme=dark] .colab-df-convert {\n",
              "      background-color: #3B4455;\n",
              "      fill: #D2E3FC;\n",
              "    }\n",
              "\n",
              "    [theme=dark] .colab-df-convert:hover {\n",
              "      background-color: #434B5C;\n",
              "      box-shadow: 0px 1px 3px 1px rgba(0, 0, 0, 0.15);\n",
              "      filter: drop-shadow(0px 1px 2px rgba(0, 0, 0, 0.3));\n",
              "      fill: #FFFFFF;\n",
              "    }\n",
              "  </style>\n",
              "\n",
              "      <script>\n",
              "        const buttonEl =\n",
              "          document.querySelector('#df-1dfffc45-6ae6-4932-815b-812823c31d68 button.colab-df-convert');\n",
              "        buttonEl.style.display =\n",
              "          google.colab.kernel.accessAllowed ? 'block' : 'none';\n",
              "\n",
              "        async function convertToInteractive(key) {\n",
              "          const element = document.querySelector('#df-1dfffc45-6ae6-4932-815b-812823c31d68');\n",
              "          const dataTable =\n",
              "            await google.colab.kernel.invokeFunction('convertToInteractive',\n",
              "                                                     [key], {});\n",
              "          if (!dataTable) return;\n",
              "\n",
              "          const docLinkHtml = 'Like what you see? Visit the ' +\n",
              "            '<a target=\"_blank\" href=https://colab.research.google.com/notebooks/data_table.ipynb>data table notebook</a>'\n",
              "            + ' to learn more about interactive tables.';\n",
              "          element.innerHTML = '';\n",
              "          dataTable['output_type'] = 'display_data';\n",
              "          await google.colab.output.renderOutput(dataTable, element);\n",
              "          const docLink = document.createElement('div');\n",
              "          docLink.innerHTML = docLinkHtml;\n",
              "          element.appendChild(docLink);\n",
              "        }\n",
              "      </script>\n",
              "    </div>\n",
              "  </div>\n",
              "  "
            ]
          },
          "metadata": {},
          "execution_count": 363
        }
      ]
    },
    {
      "cell_type": "markdown",
      "metadata": {
        "id": "K9saeoY1k7TX"
      },
      "source": [
        "## CountVectorizer\n",
        "In order to analyze strings, we need to assign them numerical values. We will use one of the simplest string representation, which transforms strings into the $n$ dimensional vectors. The number of dimensions will be the size of our dictionary, and then the values of the vector will represent the number of appereances of the given word in the sentence."
      ]
    },
    {
      "cell_type": "code",
      "execution_count": 364,
      "metadata": {
        "colab": {
          "base_uri": "https://localhost:8080/"
        },
        "id": "Uwtg2c3vk7TY",
        "outputId": "fcbb2027-0e50-438b-c677-9482be9da09c"
      },
      "outputs": [
        {
          "output_type": "stream",
          "name": "stdout",
          "text": [
            "['adore', 'and', 'apples', 'bananas', 'dislike', 'hate', 'like', 'oranges', 'they', 'we']\n",
            "[[0 0 1 0 0 0 1 0 0 1]\n",
            " [0 0 0 0 0 1 0 1 0 1]\n",
            " [1 0 0 1 0 0 0 0 0 0]\n",
            " [0 1 1 0 0 0 2 1 0 1]\n",
            " [0 0 0 1 1 0 0 0 1 0]]\n"
          ]
        },
        {
          "output_type": "stream",
          "name": "stderr",
          "text": [
            "/usr/local/lib/python3.8/dist-packages/sklearn/utils/deprecation.py:87: FutureWarning: Function get_feature_names is deprecated; get_feature_names is deprecated in 1.0 and will be removed in 1.2. Please use get_feature_names_out instead.\n",
            "  warnings.warn(msg, category=FutureWarning)\n"
          ]
        }
      ],
      "source": [
        "from sklearn.feature_extraction.text import CountVectorizer\n",
        "\n",
        "vectorizer = CountVectorizer()\n",
        "reviews_train_example = [\"We like apples\",\n",
        "                   \"We hate oranges\",\n",
        "                   \"I adore bananas\",\n",
        "                   \"We like like apples and oranges\",\n",
        "                   \"They dislike bananas\"]\n",
        "\n",
        "X_train_example = vectorizer.fit_transform(reviews_train_example)\n",
        "\n",
        "print(vectorizer.get_feature_names())\n",
        "print(X_train_example.todense())\n",
        "\n"
      ]
    },
    {
      "cell_type": "code",
      "execution_count": 365,
      "metadata": {
        "colab": {
          "base_uri": "https://localhost:8080/"
        },
        "id": "zQQL0Ng6k7TY",
        "outputId": "da58b40d-656c-4ce2-cfe8-51f3d65b3265"
      },
      "outputs": [
        {
          "output_type": "stream",
          "name": "stdout",
          "text": [
            "[[0 0 0 1 0 0 1 0 1 0]\n",
            " [0 1 1 1 0 1 0 1 0 1]\n",
            " [0 0 0 1 0 0 0 0 0 1]]\n"
          ]
        }
      ],
      "source": [
        "reviews_test_example = [\"They like bananas\",\n",
        "                   \"We hate oranges bananas and apples\",\n",
        "                   \"We love bananas\"] #New word!\n",
        "\n",
        "X_test_example = vectorizer.transform(reviews_test_example)\n",
        "\n",
        "print(X_test_example.todense())"
      ]
    },
    {
      "cell_type": "markdown",
      "metadata": {
        "id": "VIS1x5SFk7TY"
      },
      "source": [
        "We should acknowledge few facts. Firstly, CountVectorizer does not take order into account. Secondly, it ignores one-letter words (this can be changed during initialization). Finally, for test values, CountVectorizer ignores words which are not in it's dictionary."
      ]
    },
    {
      "cell_type": "markdown",
      "metadata": {
        "id": "ZGVeDQhck7TY"
      },
      "source": [
        "## Exercise 2 \n",
        "a) Split dataset into training and test sets.     \n",
        "b) Transform reviews into vectors using CountVectorizer. "
      ]
    },
    {
      "cell_type": "markdown",
      "source": [
        "## Comment\n",
        "\n",
        "I splitted dataset and transformed reviews into vectors using CountVectorizer."
      ],
      "metadata": {
        "id": "kZCOLg9S5b0w"
      }
    },
    {
      "cell_type": "code",
      "execution_count": 366,
      "metadata": {
        "collapsed": true,
        "id": "JKgzn1PVk7TZ"
      },
      "outputs": [],
      "source": [
        "#a)\n",
        "from sklearn.model_selection import train_test_split\n",
        "reviews_train_df, reviews_test_df = train_test_split(baby_df, test_size=0.4)"
      ]
    },
    {
      "cell_type": "code",
      "source": [
        "X_train = reviews_train_df['review']\n",
        "y_train = reviews_train_df['rating']"
      ],
      "metadata": {
        "id": "LygkD5_45thh"
      },
      "execution_count": 367,
      "outputs": []
    },
    {
      "cell_type": "code",
      "source": [
        "X_test = reviews_test_df['review']\n",
        "y_test = reviews_test_df['rating']"
      ],
      "metadata": {
        "id": "PPJGSMNu52pY"
      },
      "execution_count": 368,
      "outputs": []
    },
    {
      "cell_type": "code",
      "execution_count": 369,
      "metadata": {
        "collapsed": true,
        "id": "_E15T18Xk7TZ"
      },
      "outputs": [],
      "source": [
        "#b)\n",
        "from sklearn.feature_extraction.text import CountVectorizer\n",
        "df_vectorizer = CountVectorizer()\n",
        "\n",
        "X_train = df_vectorizer.fit_transform(X_train)\n",
        "X_test = df_vectorizer.transform(X_test)"
      ]
    },
    {
      "cell_type": "markdown",
      "metadata": {
        "id": "B3Ap7rXzk7TZ"
      },
      "source": [
        "## Exercise 3 \n",
        "a) Train LogisticRegression model on training data (reviews processed with CountVectorizer, ratings as they were).   \n",
        "b) Print 10 most positive and 10 most negative words."
      ]
    },
    {
      "cell_type": "markdown",
      "source": [
        "## Comment\n",
        "\n",
        "I trained Logistic Regression model on training data. For X I used reviews processed with Count Vectorizer. For y I used ratings as they from begginig. \n",
        "\n",
        "Also I changed max itterations for model. Because of default 100 was not enough and throwed warning about it.\n",
        "\n",
        "And I used magical function %time gives us a single run of a function"
      ],
      "metadata": {
        "id": "DLVzR9Ub5vk4"
      }
    },
    {
      "cell_type": "code",
      "execution_count": 370,
      "metadata": {
        "collapsed": true,
        "colab": {
          "base_uri": "https://localhost:8080/"
        },
        "id": "mu6bNdI_k7TZ",
        "outputId": "9d66a160-3a4f-4d21-e00c-4213c98858a4"
      },
      "outputs": [
        {
          "output_type": "stream",
          "name": "stdout",
          "text": [
            "CPU times: user 1min 29s, sys: 1min 40s, total: 3min 9s\n",
            "Wall time: 1min 40s\n"
          ]
        },
        {
          "output_type": "execute_result",
          "data": {
            "text/plain": [
              "LogisticRegression(max_iter=1000)"
            ]
          },
          "metadata": {},
          "execution_count": 370
        }
      ],
      "source": [
        "#a)\n",
        "model = LogisticRegression(max_iter=1000)\n",
        "%time model.fit(X_train,y_train)"
      ]
    },
    {
      "cell_type": "markdown",
      "source": [
        "Here I printed TOP 10 Positive and Negative words by using model.coef_.\n",
        "\n",
        "I sorted values and took 10 values, after this I found index and mapped to words using vectorizer.get_feature_names_out function.<p>\n",
        "model.coef_ - Coefficient of the features in the decision function."
      ],
      "metadata": {
        "id": "9PTXyt7Y6yqs"
      }
    },
    {
      "cell_type": "code",
      "execution_count": 371,
      "metadata": {
        "collapsed": true,
        "colab": {
          "base_uri": "https://localhost:8080/"
        },
        "id": "kJC-vywak7TZ",
        "outputId": "6e0059ac-072a-40df-c53a-8c1284a69c50"
      },
      "outputs": [
        {
          "output_type": "stream",
          "name": "stdout",
          "text": [
            "Positive\n",
            "coef: [2.27168695]     word: ['wonderfully']\n",
            "coef: [2.20433514]     word: ['lifesaver']\n",
            "coef: [2.1550751]     word: ['highly']\n",
            "coef: [2.01489667]     word: ['breeze']\n",
            "coef: [2.00366026]     word: ['worry']\n",
            "coef: [1.98545888]     word: ['amazed']\n",
            "coef: [1.96734841]     word: ['fancy']\n",
            "coef: [1.89767119]     word: ['glad']\n",
            "coef: [1.89459578]     word: ['saves']\n",
            "coef: [1.88394568]     word: ['tad']\n",
            "\n",
            "Negative\n",
            "coef: [-3.031933]     word: ['dissapointed']\n",
            "coef: [-2.782497]     word: ['disappointing']\n",
            "coef: [-2.64621289]     word: ['worst']\n",
            "coef: [-2.50487479]     word: ['unusable']\n",
            "coef: [-2.40662627]     word: ['useless']\n",
            "coef: [-2.37059925]     word: ['worthless']\n",
            "coef: [-2.36756834]     word: ['poorly']\n",
            "coef: [-2.29004876]     word: ['theory']\n",
            "coef: [-2.27939768]     word: ['poor']\n",
            "coef: [-2.23256142]     word: ['disappointed']\n"
          ]
        }
      ],
      "source": [
        "#b)\n",
        "ten_positive = sorted(model.coef_[0])[-10:]\n",
        "ten_negative = sorted(model.coef_[0])[:10]\n",
        "\n",
        "print('Positive')\n",
        "for item in reversed(ten_positive):\n",
        "    index = np.where(model.coef_[0] == item)\n",
        "    print(f'coef: {model.coef_[0][index]}     word: {df_vectorizer.get_feature_names_out()[index]}')\n",
        "\n",
        "print('\\nNegative')\n",
        "for item in ten_negative:\n",
        "    index = np.where(model.coef_[0] == item)\n",
        "    print(f'coef: {model.coef_[0][index]}     word: {df_vectorizer.get_feature_names_out()[index]}')\n",
        "\n",
        "#hint: model.coef_, vectorizer.get_feature_names()"
      ]
    },
    {
      "cell_type": "markdown",
      "metadata": {
        "id": "umKpcNPKk7Ta"
      },
      "source": [
        "## Exercise 4 \n",
        "a) Predict the sentiment of test data reviews.   \n",
        "b) Predict the sentiment of test data reviews in terms of probability.   \n",
        "c) Find five most positive and most negative reviews.   \n",
        "d) Calculate the accuracy of predictions."
      ]
    },
    {
      "cell_type": "markdown",
      "source": [
        "## Comment\n",
        "I predicted the sentiment of test data reviews.\n",
        "I used predict function which predict class labels for samples in X.<p>\n",
        "And returns vector containing the class labels for each sample."
      ],
      "metadata": {
        "id": "2eFx4ueB8Mxw"
      }
    },
    {
      "cell_type": "code",
      "execution_count": 372,
      "metadata": {
        "collapsed": true,
        "colab": {
          "base_uri": "https://localhost:8080/"
        },
        "id": "qlOcFxwMk7Ta",
        "outputId": "dc9eb40f-d8b3-4956-e0b9-1f65991533a8"
      },
      "outputs": [
        {
          "output_type": "execute_result",
          "data": {
            "text/plain": [
              "array([ 1,  1,  1, ...,  1,  1, -1])"
            ]
          },
          "metadata": {},
          "execution_count": 372
        }
      ],
      "source": [
        "#a)\n",
        "model.predict(X_test)"
      ]
    },
    {
      "cell_type": "markdown",
      "source": [
        "I predicted the sentiment of test data reviews in terms of probability.<p>\n",
        "I used predict_proba function which using for probability estimates.<p>\n",
        "And returns the probability of the sample for each class in the model, where classes are ordered as they are in self.classes_.<p>\n",
        "For our example order of classes will be [-1,1]. It means thar first column will be for negative reviews and second column for positive values"
      ],
      "metadata": {
        "id": "iDZHKfVP8tWI"
      }
    },
    {
      "cell_type": "code",
      "execution_count": 373,
      "metadata": {
        "collapsed": true,
        "colab": {
          "base_uri": "https://localhost:8080/"
        },
        "id": "StWi7Wobk7Ta",
        "outputId": "5f16d460-86d2-46e3-98b9-236f0796c4a5"
      },
      "outputs": [
        {
          "output_type": "stream",
          "name": "stdout",
          "text": [
            "[[0.03147975 0.96852025]\n",
            " [0.00188307 0.99811693]\n",
            " [0.00292813 0.99707187]\n",
            " ...\n",
            " [0.3447533  0.6552467 ]\n",
            " [0.00253843 0.99746157]\n",
            " [0.9721434  0.0278566 ]]\n"
          ]
        }
      ],
      "source": [
        "#b)\n",
        "pr_proba = model.predict_proba(X_test)\n",
        "print(pr_proba)\n",
        "#hint: model.predict_proba()"
      ]
    },
    {
      "cell_type": "markdown",
      "source": [
        "Here I found TOP 5 reviews. The same steps how I did for TOP 10 words."
      ],
      "metadata": {
        "id": "eMNEaxXb9uaI"
      }
    },
    {
      "cell_type": "code",
      "source": [
        "#c) \n",
        "ids_neg = np.arange(pr_proba[:, 0].shape[0])\n",
        "res_neg = sorted(ids_neg, key=lambda x: pr_proba[:, 0][x])\n",
        "\n",
        "ids_pos = np.arange(pr_proba[:, 1].shape[0])\n",
        "res_pos = sorted(ids_pos, key=lambda x: pr_proba[:, 1][x])"
      ],
      "metadata": {
        "id": "Iq4H47FkrIpe"
      },
      "execution_count": 374,
      "outputs": []
    },
    {
      "cell_type": "code",
      "source": [
        "print('Negative Review:')\n",
        "for index in reversed(res_neg[:5]):\n",
        "    print(f\"{reviews_test_df['review'].iloc[index]} \\n\")"
      ],
      "metadata": {
        "colab": {
          "base_uri": "https://localhost:8080/"
        },
        "id": "HxdKnj4VqJio",
        "outputId": "e2084f27-b5e2-4a7b-ee06-b576ceac325f"
      },
      "execution_count": 375,
      "outputs": [
        {
          "output_type": "stream",
          "name": "stdout",
          "text": [
            "Negative Review:\n",
            "I have been using this version of the Britax Marathon 70 for 2 years  I originally bought it just after my daughter turned a year old and we needed to move her out of her bucket style rearfacing seat After a lot of research I chose the Britax Marathon for its excellent safety standards and because I thought it would fit nicely in my carMy vehicle setup 2004 Pontiac VibeI felt that the Marathon fit very nicely rearfacing in my car Due to the split seats in the back I kept the car seat on the driver side of the car I am not a very tall person 5 5 so I was able to properly install the seat rearfacing without feeling squished Inn fact I had the seat where I had always had it My husband who is 5 9 was also able to comfortably able to drive the car with the Marathon rearfacing although he was a tad squishedI kept my daughter rearfacing until she was almost 3 years old She never once complained of any discomfort Yes she had to bend her legs a little but kids are pretty flexible and I have found often prefer to sit this way  I had planned to keep her rearfacing until we hit the 40 lbs mark but on a whim once day while cleaning out the car I decided to turn it around For the next week my daughter thanked me for turning the seat around I think think was due to the fact that she could now see better out the windowWe have been forward facing for about 6 months now My daughter can easily climb in and out of the seat which has greatly helped at times She can also buckle the chest buckle  The seat fits nicely in the car and looks nice with my black cloth seatsPROS The Marathon is super easy to adjust I cannot imagine having to rethread straps every time your child grows This easy adjustment also comes in handy when transitioning seasons I dont like adding a lot of bulk during the winter sue to safety concerns but even a little thicker jacket means an adjustment in straps I love how easy this is to do on the Marathon It ensures that I always have the snuggest fit on my daughter Removable seat cover Lets face it kids are messy I dont clean the cover on a regular basis but when your child spills milk on the seat you need to clean it or it will smell Easy latch installation So easy Can move it from car to car in minutes No cup holder Yes I listed this as a pro I dont really think car seats need cup holders Im in the car with my daughter most of the time to and from daycare She gets fed there why would she need a drink or snack in the car on the way Eliminating cup holders means the seat takes up less space in my car Solidly built I love that you can feel metal on this Its not all plastic You can see how this is a much more quality product over other car seatsCONSI cannot really think of a con that would cause me not to buy a Marathon again in the future if I should ever need anotherOverall this is a great seat and it fits well in smaller cars \n",
            "\n",
            "I love this stroller SO much I am not afraid to say that this is a PERFECT stroller people are too idealistic and unrealistic at times If you look at what really matters this stroller Wont dissapoint Good seat size easy fold big basket parent pocket and cup holder reversable seat bassinet feauture adjustable seat and footrest and so much other great thingsI just got it a week ago and am still pregnant but I had my niece 35 years and my nephew 9 months over to test out the stroller My nephew is pretty big but he fit perfectly with room to spare He was even able to fully recline if he wanted to nap He looked very comfortable and loved being in the stroller My niece whose a toddler also fit She couldnt lay back but at 35 years old she pretty much doesnt need a stroller anymore I just wanted to see if she would be able to fit which she could She also loved it and asked to sit it in for a while So I would definitely disagree with everyone saying that this stroller seat is too small If you get to have a child from infant to three years old in there that stroller has done its jobAnother thing I saw a lot of parents complaining about was the difficult fold The fold is not difficult Just because you have to put in TWO minutes to learn how to do it doesnt mean its difficult I think people just expect things to be as easy as pushing one button I didnt mind learning how to close it and it take 10 seconds to do so once you learn The open is also quick taking about 5 seconds The whole thing is just awesome I cant have any complaints about itAbout the sizeyes its biggish but its a stroller If you are getting a stroller expect it to take up a good chunk of your trunk Its not going to be tiny If it was tiny wouldnt you question the stability of it Im glad it has some size because I know it is strong and will hold up I have a Hyndai Elantra and it fits fine in my trunk I could still fit groceries in my trunk if I needed No complaints here If your car is REALLY small the you have the option of removing the seat too I would consider that a plus Its versatile to fit different spacesI will reiterate what others have said about the basket reverse feature cup holders etc they are all GREAT feautures They seriously add so much to the stroller The stroller looks expensive and has expensive features The color is amazing and it just looks so modern I am not of fan of the cutesy animal prints and patterns This stroller is clean and simple lookingI am in love with every bit of this stroller Cant wait to use it with my baby in a couple of months \n",
            "\n",
            "We bought this stroller after selling our beloved BOB rev on craigslist We used the BOB for 9 months for my son but it just wasnt practical I dont jogrun it didnt have a big basket and was very bulky to take into stores quickly However I did love how it unfolded easily but it was heavy to fold up and lift into my small trunk myself Overall I didnt realize what Id need in a stroller until AFTER I had my son Live  learn We did love how easily the BOB would go over pretty much anything Nevertheless we sold it and after extensive research on strollers we decided it was between the uppababy brand because of the large baskets OR the city mini GT because of its easy fold up design After looking over both strollers I decided on the uppababy cruz because of a few main factors It SITS UP I cant tell you how much my son hates being reclined when he is just riding in the stroller and not napping The BOB and the City Mini had a slight recline and he always tried sitting more upright The uppababy sits up like your sitting in a chair He loves it It also reclines nearly flat The foot rest can be positioned upwards so that its as if he is sitting on the floor because he is so upright and his feet are out in front of him Also the LARGE basket was a HUGE plus I cant tell you how great evvvvverything fits in there Its perfect and soooo easily accessable The city mini gt did NOT have a big enough basket for me and there for was not the right choice for me despite the very easy fold up The true test for us was this past weekend when we took it to Maine on a camping trip YES it is no BOB However I thought it was just fine over the rough bumps of a campground Bumpy ride Yes But nothing my 10 month old couldnt handle and honestly It wasnt that bad We took it to old orchard beach and as I suspected it didnt roll over the sand like my good old BOB did But it rolls really nicely on pavement and I just carried my son over to the beach and I figure he will be 1 soon enough and walking so I wont need the stroller on the beach anyways I also love the reversable seat that comes in handy because my son is going through some sort of attachment to mommy thing so he likes being able to face me from time to time I also love that the Cruz is a less expencive option to the Vista The vista is much much heavier and a little bigger And since we didnt need the extras that the Vista comes with this was the better option for us Also I called Uppababy and asked about a belly bar and toddler board for the cruz and they told me that BOTH would be available The belly bar will be out this summer and the board is in producton huge plus So for us this stroller was a hit but as anything goes you MUST research what YOU need in a stroller and figure out whats important to you Some people dont care about a big basket and in that case id for sure go with the City mini gtUPDATE1713We are in LOVE with this stroller still It fits great in the trunk of my saturn ion and how I fold it is I take the seat off first takes 1 second and then fold the frame I found it fits and folds better that way plus some times my son likes to sit forward and sometimes backwards still so I just set up the frame and then throw the seat on top depending on which way i think he wants to sit The basket is just my fave feature I cant tell you how happy I have been with the uppababby My son is 16 months old and loves sitting in his uppababy well worth it still \n",
            "\n",
            "My local BRU had only 15 strollers to look at and most of them were umbrella or AIO travel systems I still liked the BJ City Mini due to its low weight and easy fold but it lacked the options I wanted and the growth potential for a second kid  I also really liked the JJ Cole Broadway but again no second seat So I traveled a ways to visit BBB and boy was that overwhelming but fun They had tons of strollers including many great convertible strollers that go from 12 kid configurations but most of them were tandem and not side to side The issue with tandem strollers such as the Baby Jogger City Mini and the Britax was that although it had lots of optional configurations they really didnt work for two kids I didnt see either of them being comfortable in recline and it was just cumbersome to get them in and out  So off to sidebyside Near the end of our visit we discovered the Bugaboo Donkey and boy was that a delight to test drive With its side bag and colorful shades and cool features it was definitely becoming my favorite The only problem was the price It was WAY too expensiveAnyhow we went back to searching online and watching tons of youtube videos I got rid of my hope that one stroller would do everything but this one comes close I put together a list of must haves and then optional items with priority Some of the things I love about this stroller is that it fits through doors with ease has the full recline for infants you can jog with this confirmed directly with MB the handle adjusts for my tall hubby the momfacing freestanding carrycot bassinet option for 06mo the side Joey Bag Bugaboo style easy gliding great storage underneath although hard to reach if kid is in fullrecline and the easy locking foot bar We were quite nervous that the handle would not provide enough distance from the stroller for my 64 husband but it does He has a long stride and has no issue with this  Also the sidebyside feature really was important You can easily tend to each kid and adjust canopies or cover them independently and its easy to get them in and out Plus they cannot kick or grab each other  I really think this would work well in a lot of different places amusement parks malls church outdoors neighborhood walks and jogs I love that I can have take the freestanding bassinet into restaurants church pews and also make a downstairs bedSome NegativesThe tires came a bit flat so we will have to air them up Pump is not included Also he noticed that the silver was easily scratched despite his care in assembling it  I do have some concern on the width of the seats as they really are narrow but I really do not plan on pushing around 5 year olds in this so Im okay with that  There is no real handlebar drink storage which would be great to have  The recline is easy enough to adjust but you do have to kneel down and it takes both hands The canopy is kind of a wobbly fit and I kind of wish it was bigger and provided more wind resistance as there are gaps on the side And when you adjust the recline the extra fabric bunches up near the kids head Not a huge issue but a lil annoying It also has a velcro window on top but any craft gal can easily add some magnet closure if this really was important to her  Also how great would it be if they had the optional canopy covers in those jewel tones like JJ ColeMy most helpful tip I can give is to keep and update a list of your wish list items and must haves when doing looking After buying this without ever test driving it in person I love it I am so glad I took the plunge and went with it \n",
            "\n",
            "I am so HAPPY I brought this item for my 7 months old granddaughter SHE ABSOLUTELY LOVES IT I love it too she is a little einstein herself and she loves this discovery center It is full of entertaining fun and keeps her busy when I need a break to do other things around the house or cook or whatever I take time also to help her learn the different activities it has She love the panda bears seesaw and the leaf with the teether rings she bites that thing like CRAZY as much as the blue flexy teething ring She already knows how to take them off to use it She also like the penquin spin ball and the spinning parrot bird She still learning about how to hit the drum that is in front of the lion The only complaint I have about the puppet lion is they should make it more removable to be taking off and on She had a tough time to reach out to touch it so had to find away to detach it off so she can also have a chance to play with that now I place it back on the pole with she not playing with it I use it as a puppet to play and tease her with she loves it She also loves the 3 bi colored chipped rings that moves from one side to another which helps with colors and number learning Most of all she loves the little music box that has 3 variety of music to listen to from classical to mumba it sound like ha ha she already learning how to dance to the tunes and I love to dance with her also It also has three levels to raise higher and to choose from and it spins and turn in all directions for her to play with any of the activities GREAT What tickles me the most is my son HER DAD said to me a couple of weeks ago Mom I need a Baby Einstein too because I always holding her and I need to do my things too I laughed and said Why do you think I brought this particular activity center to help her with her motor and learning skills and to keep her busy when I need to do my things around the home In one word FANTASTIC work Baby Einstein Manufacturer Company GREAT WORK on this product I will be looking to purchase more Baby Einstein products in the near future One of my girlfriends mentioned she will keep this product in mind as a baby gift if she needs one in the future due to my recommendation and baby stories I shared with her I told her come to Amazon for good products and a good buying price you cant lose here I have another favorite place I like to buy things from and when I cant find what I want there I always come here now Amazon is my other favorite place to buy now Good quality with good prices and steals GO AMAZON \n",
            "\n"
          ]
        }
      ]
    },
    {
      "cell_type": "code",
      "source": [
        "print('Positive Review:')\n",
        "for index in reversed(res_pos[-5:]):\n",
        "    print(f\"{reviews_test_df['review'].iloc[index]} \\n\")\n",
        "\n",
        "#hint: use the results of b)"
      ],
      "metadata": {
        "colab": {
          "base_uri": "https://localhost:8080/"
        },
        "id": "xs7wqj6WuqwT",
        "outputId": "182c40d4-b114-4ebc-81d5-70e8ad8a0167"
      },
      "execution_count": 376,
      "outputs": [
        {
          "output_type": "stream",
          "name": "stdout",
          "text": [
            "Positive Review:\n",
            "We live an active life style and are either traveling on weekends or are away from home with our two year old twins doing activities As they have both been potty trained I felt that it was important to ensure that they have access to a potty at all times while we are outside the home After visiting numerous public rest rooms and repeatedly hearing my twin say mommy clean it each time we entered a public restroom I decided to search for a portable potty  When it arrived it was significantly smaller than I expected and I appreciated that it came with a storage bag  which I have used for both the potty and the seat insertsThis potty was first used on a 35 hour trip to another state and we were all so thankful that it was in the car Like others I didnt get out it worked initially since I didnt read the instructions and held it upright while my child when to the bathroom Later I discovered that you need to push in the legs to ensure that the potty is sturdy and can support a child Once I figured that out Id highly recommend that the potty be placed on a flat surface We used it in the car while at an exit gas station to ensure the safety of our children I have both a girl and boy so I was a little worried about how the seat would work since we are used to either using a toilet seat insert or baby Bjorn potty which has a lot of protection for little boys urinating It doesnt cover quite as well as the baby Bjorn or potty with a raised front but you can always provide guidance to your childThe inserts work really well and are simple to fit onto the legs of the potty They do touch the floor surface in between the potty which works well as you can ensure that a significant amount of matter can be safely collected by the potty I didnt realize until its first use that the inserts actually work similar to a diaper and soak up a portion of potty contents This allowed for me to remove the bag easily and store it in the car until we could find a garbage canQuite honestly its been great Its convenient and has been a life saver when you are far away from a rest room and your toddler needs to go immediately I would say however that it is important to train your child to hold in for a while so we use the potty only when we know that its urgent or itll take too long to get to the bathroomRegarding the size of the potty My children are smaller than average However I do think it is small For example my kids may ask to be helped on it or have a slight drop to it meaning that its not like a regular potty when they can just lean back and sit down its slightly lower than that comfortable level  It would be great if the legs extended just a couple more inches  However this hasnt proved to be an issue and I know they prefer this option over public restrooms as do I We plan to use this in the back of our car at the state fair The one thing I would advise is to have a towel or something to cover your kids in the case that you do need to use it outside or in the back of your car We use it in the back seat floor area of our SUV as we have enough room and can ensure privacyLike I mentioned earlier this product is great and I would recommend it to anyone with kids who are being potty trained or for kids who need to access a potty while traveling \n",
            "\n",
            "I did a TON of research before I purchased this stroller and I still watch stroller reviews all the time Babygizmocom has really great reviews on so many strollers And Zooper Waltz 2011 is THE BEST of all Ive seen so farLet me tell you first though that it is not an allterrain or jogging stroller and it does not have an ability to be used for more than one child So if youre looking for these things this is not it But if youre looking for a single stroller for city walking and a little bit of park and dirt etc and you dont want a monster stroller size and weight wise this is the best stroller of that kindOne of my favorite things about this stroller is that it comes with SO many accessories that are sold separately on most other strollers especially those expensive ones With this one you pay 300 I paid 250 for it on eBay and get the following accessories all included A UV netIt easily snaps onto the canopy to completely shade the front and there are two elastic loops at the bottom to attach it securely to the stroller It comes in a zippered pouch and whats genius about it is that the pouch itself is actually part of the net so you dont have to worry about ever losing the pouch A foot muff for cold weatherIt also easily snaps onto the seat This is something you dont see included with a stroller very often A removable cup holderIt can actually hold a travel mug Starbucks cup etc and not just a water bottle A snack tray for the childLarge enough to be actually practical Has a large deep cup holder that securely holds any sippy cup a bowllike section to put some snacks and two compartments in the middle A baby bumper barYou can either completely remove it or just swing it away to make it easier to get your child in and out of the stroller Infant car seat adapter strapsYou attach it to the Drings on the sides of the seat then it goes over your infant car seat and you secure it with a buckle and by tightening the strap Its not one of those big bulky frame adapters that some strollers have for infant car seat To me thats just one more thing to find a place for when youre not using it as a travel system This strap system feels very very secure and its just much more travel friendly A rain coverThe 2011 model does not come with a rain cover but thats because the improved canopy which is gigantic and fullcoverage is made of complete waterproof fabric and acts as a rain cover I love this because I dont have to worry about forgetting the rain cover at home or fiddling with it trying to put it on when it starts raining unexpectedly on the goSo only 300 with all these amazing practical accessories is absolutely the best price for its valueNow on to the stroller features Thats right I havent even started on the main stroller yet LightweightIts just under 19lbs Im petite and dont have a lot of arm muscle but I dont have any problem getting this in and out of my trunk or carrying it up a couple flights of stairs every once in a while High weight capacity of 55lbsNot that I would use it for a 55lbs child regularly but it means its that sturdy Easy to assembleIt comes in a big box and all you have to do is snap on the wheels and the canopy Super easy Took us 5 minutes However I do want to note that we attached the canopy wrong at first and because of that it ripped at the zipper when we tried to recline the seat There are four snaps on the bottom of the canopy one set at the very front on each side and another in the middle The front set snaps onto the sides of the seat and the middle ones onto the back of the seat Our mistake was attaching the front ones to the seat back But Zooper had a super nice warranty service where they sent us a brand new canopy for no charge even though it was our fault Newborn friendlyIt has a very flat recline position and the leg rest goes all the way up and securely zips on to the sides of the seat creating a bassinetlike environment The leg rest also lays flat for babies or goes down for older kids It also has an infant guard at the top of the seat that would prevent your infant from ever sliding out of the seat when the seat is fully reclined and the back of the canopy is removed But this piece can be tucked away with an attached velcro once your child gets taller It also comes with an infant head rest that is attached to the shoulder straps but this is also removable Onehanded open and fold and stands on its own when foldedNow theres a trick to doing it onehanded Its supposed to be done with two hands and its super easy to do but you can also do it onehanded To open it you unlock the lock on the side push the big button on the handle bar and instead of grabbing the small handle on the side like you would when youre opening it with two hands you just push down on the top bar of the basket with your foot To fold it first you retract the canopy and put the seat up to the upright position lock all the wheels and then push the big button on the handlebar lift up on the small handle on the side with your knee just a little nudge and then you push the whole stroller down towards the ground with the handlebar That allows the frame to slide into a folded position Then I usually have to push down on the front of the frame with my foot to engage the lock It might sound complicated but once you get the hang of it you can do it in seconds My babys been real clingy and so its been nice being able  to open and fold the stroller while holding him Fullcoverage canopy with a large viewing windowThis canopy is probably my favorite feature of this stroller First of all its huge and it folds all the way down to the bumper bar to completely shade and cover your child It has a large viewing window with a flap to cover it when not in use The flap has no noisy velcro on it so you wont have to worry about waking up your baby When the seat is fully reclined but you still want fullcoverage on your sleeping baby you can actually unzip whole another fullsized panel to do that Also theres another zipper on the canopy that you can unzip and reveal a mesh underneath the back of the canopy This enables a good airflow through the back into your child The whole back of the canopy and the mesh underneath it are both completely removable as well Great storageThe basket is huge and can fit my diaper bag another big bag with beach towels and blankets jackets water bottles and lunch fairly easily So its perfect for picnics and shopping It has a hard bottom so that you will never be dragging your stuff on the ground An amazing feature of this basket is that they put a vertical zipper on each side of the basket towards the front of the stroller that goes all the way to the bottom so you will have a complete access to the content even when the seat is fully reclined I love it I also like that the side fabric of the basket is kind of seethrough so you can see where everything isAlso there is a large pocket on the back of the canopy where I can fit my clutchsize purse and another pocket on top of it with a lid which is perfect for keeping your keys cellphones etc Theres another small pocket on the back of the seat where the warnings are supposed to go but thats where I keep my UV net and car seat adapters Onehanded bar recline that has 4 different positionsI can even adjust the recline up and down while walking with this stroller Seat fabric machinewashableThe seat fabric comes off to be machinewashed Canopy is spot clean only Excellent maneuverabilityIt pushes really well and as long as Im on a paved street I can totally push it and even turn it onehanded with the baby and tons of stuff in the basket It does pretty good on grass dirt and gravel but I usually need two hands to turn on rough terrain Carrying handle on the side and the ability to wheel behind when its foldedCarrying handle is definitely nice when I lift it up to put it in my trunk and if you have the front wheels locked you can wheel it behind you like a luggage Front swivel wheels that can also be locked straight for rougher terrain and onetouch rear brakeThis is pretty standard for most strollers but its definitely a nice feature All four wheels have suspension systemIve taken it on grass and some dirt roads and it pushed very well Padded five point harness that are height adjustableThis is pretty standard too and you do have to rethread the shoulder straps to adjust the height but you wont be adjusting them all the time so this is not an issue The paddings on the shoulder straps are easily removable The buckle is easy to do no puzzle pieces You can also detach the shoulder straps and use it as a 3 point harness once your child is old enoughAs you can tell I just cannot say enough good things about this stroller Ive been using it for almost 7 months since my son was a newborn and I absolutely love itZooper also has Bolero and Twist and the differences areBolero is 400 and comes with a bassinet kit to make the seat a real bassinet Its a tad bigger and heavier but has a more compact standing fold than WaltzTwist is 200 and has an umbrella fold It can not stand on its own when folded but everything else is the same as Waltz \n",
            "\n",
            "Im a recent stayathome mom with two kids and Im SO happy to finally have one bag that meets all of my needs  For me this bag functions as a diaper bag  cooler  laptop bag  I use this bag EVERY day and I love it so much Ive purchased it as a gift for two other momstobe  I really like that it has 3 different compartments designed to meet different functions  I use the insulated cooler compartment every day since I never go anywhere with my kids without snacks and drinks  I was skeptical of the ice packs at first but discovered on Day 1 that they work great and keep everything ooober cool  I also like the protective laptop compartment  Its been nice to have my laptop with me on longer excursions I use it to entertain my 4 year old on plane trips or when I have both kids at an organized activity and actually have a few minutes to myself to catch up on emails  Also Ive used the laptop compartment as extra storage for other items on days I do not wantneed my laptop with me  I use the outer compartment for diapers and wipes and I use the pockets within that compartment for my purse items  The shoulder strap is adjustable and very comfortable every way Ive worn it  I wasnt sure Id like the velcro closure on the outer flap but have discovered it fastens very securely AND serves 2 critical functions for me  First it provides quick and easy access to the inner compartments since I can get into the bag with just one hand I can easily grab the extra binkie for the crying baby or sippy cup for the parched preschooler without needing to pull the car over to free both hands  Second I found that the velcro flap allows variability in the bags stuffing capacity  The bags fabric and manufacture appear very high quality and durable and so far have held up fabulously to the daily wear and tear I put the bag through  Oh  and how could I forget  My very favorite part of this bag is the small outer pocket on the side  Since this pocket is the ultimate in easy access I use this for my phone and keys  I definitely recommend this bag for any mom who ever leaves the house with her kiddos   Totally worth the money to have a durable and stylish bag that meets so many different functions \n",
            "\n",
            "AMAZING stroller  It took me about 2 minutes to put together once out of the boxVery smooth ride  My little one LOOOOVED riding in this stroller  Not having a tray in front actually makes it much easier to get them in and out without getting stuck but they are very securely fastened inside  And the canopy I cant rave about it enough  It is definitely extra large but it doesnt obstruct your view or your childs  The canopy is very roomy at the top and not claustrophobic feeling even though it curves down in fact one of my favorite features is how it curves down towards your little one just a bit  Ive found that I no longer have to have a sunhat or baby sunglasses neither of which stayed on for long to shield the sun from eyes  In other strollers my little one is often squinting because she wont keep the hats or glasses on but with this stroller she is shaded perfectly to the point that those things are necessary any more  Doesnt seem to matter what angle the sun is in  Another benefit is that I dont have to put sunscreen on her face as its completely shadedOne of the things that they dont really mention in their product description is that its surprisingly compact when closed  Unlike my previous stroller which took up the entire back of my SUV because it would only fit horizontally in the space this one fits vertically in the back so that I have half of my 34trunk34 space for other things  I can take this stroller just about anywhere because I know I will have storage room to spare even with it in the back  I no longer have had those moments when shopping opening the back only to realize that I forgot to take the stroller out of the back before leaving the house  That is so frustrating  I dont have to worry about that anymore   If you have a minivan then you can probably stand it up on end and have even more 34trunk34 spaceEven with all of the other things I love about this stroller the thing I love the most is how easily you can open close and carry this stroller one handed  I LOVE LOVE LOVE the one hand open and close feature  This works like a dream and is so lightweight you can easily handle this with one arm especially nice if you are disabled or only have one armIf you are tall then this stroller will be a godsend as the handle seems to come up higher than others  An older Chicco stroller we had did have an adjustable handle that you could tilt to a higher position but this handle is even better  My sister is tall 5103451134  Im around 55345634 and it fits us both very comfortably without any adjustmentOne thing that is kind of misleading from the name of the stroller is that it is a 34Baby Jogger City Lite34 but is not intended for running  The name of the brand is 34Baby Jogger34 and the model is 34City Lite34  I didnt get it for the jogging capability but for the one handed closing opening feature and that it was lightweight yet could carry up to 55 lb child and had LOTS of storage Not being a jogging stroller that wasnt a big deal for me but it is something that you will want to note especially considering the style and makerI know there are other strollers out there that cost more that are supposed to be better but I just cant imagine how that could be nor that it would be necessary to pay more  This stroller is perfect for me  I would buy this stroller again and again and HIGHLY recommend it  Ive had three previous strollers in the past 5 years and this one is by far the best one Ive had  BY FAR  I wish I would have had this one to begin with because I would have saved myself so much money its not even funny  It has everything that I want in a stroller once I bought a couple of the accessories so I firmly believe this will be the last one I ever get  I liked it so much that I gave one to my sister who needs a stroller that she can manipulate one handed and she loves it just as much as I do \n",
            "\n",
            "Background Ive been using Grovia diapers for four years when I bought them they were called grobaby I have 6 shells and 12 inserts I purchased them for my oldest daughter and used them only part time for 25 years until she was potty trained She still needed pullups at night for a long time so I used these until she was ready to go without She was probably 30lbs when she stopped wearing them and they fit well They were stored for a year until I had my other daughter who is now 55 months and exclusively CDd I didnt use them for either girl until about a month old since I had tiny babiesPros Theyre mostly organic When they were new they were so soft and thick Now theyre definitely worn in and not so soft anymoreI love how easy they are to use As a first time CDer these were perfect Just snap the inserts in strap on baby Easy for pretty much anyone No stuffing unstuffing folding etcI love that Im able to reuse the shells a couple of times until theyre stinky or pooped in or too wet Some people didnt find this to be true but after four years of use I can confidently say its possible and happens often for meI find them easy to wash and love that the insert and shell are separate since I machine dry the inserts and line dry the shells which has helped to prolong their life Contrary to some reviews I dont find it difficult to clean poop from shells It just agitates out of the mesh in the washing machineOne size Although I didnt use these diapers for my tiny babies they are absolutely a birth to potty training diaper My oldest was 30lbs when she stopped wearing them almost four yrs old She has always been a small kid with no chunk though so Im not sure how long a thicker baby could wear them forDesigns and colours are cute nothing obnoxious and I like that the snaps match the shell colour Makes all those snaps less noticeable The snaps are very well made and strong not one has come loose or fallen offVersatile Not only can you use one shell multiple times before needing to wash it but you can also use the shells as covers for prefolds and other diapers needing covers I used prefolds quite a bit during my daughters first few months can get a more custom fit on tiny babies and I found them to be extra soft on that delicate new skin I didnt bother buying a bunch of sized covers for my prefolds and used the grovia shells instead They worked perfectlyGreat for travelshopping etc You can leave the house with an extra shell and a few inserts instead of 34 whole diapers since the shells can be reused Ive been out with only one shell before and I was glad I had these I quickly rinsed the poop out of the shell dried under the air drier in a public bathroom and snapped in a new insert in less than 5 minutesSoft shells soft elastic on the legs very few red marksFew blowouts or leaks Ive only experienced a few leaks and I think this is mainly because some inserts were too long for the shell in its smallest setting When the shell went up in size the issue was fixed Also the aplix tabs Velcro stuff makes these diapers super custom and snug great for putting a CD on a squirmy baby The aplix also happens to be a conCons the Velcro tabs This is probably due to the fact that theyre 4 years old but the tabs are starting to curl up and not stick so well This only began to happen but may have began sooner if I had CDd exclusively the first time I can switch them out for snaps so I may do that eventually since the rest of the shell is in perfect conditionHolds stink The inserts are still in good condition but Ive had problems with the nasty ammonia smell They really seem to hold the stink so stripping and a religious wash routine has been key to keep them fresh smelling Maybe this has been my own fault because I had no idea what I was doing in the beginning but who knowsI sun bleach them regularly so they still look good but they need to be machine dried for at least 20 minutes to stay softAbsorbency My biggest issue with these diapers is that they arent absorbent enough My kids are heavy wetters so Ive never been able to use these at night Even with the booster Also when wet the inserts ripple up or buckle and dont seem very comfortable My babys bum gets red marks on it if left on too long from the ripples of the top layer of the insert I use the bumgenius freetimes with microfiber inserts at night and have no issues Although Id rather have a natural fabric next to my daughters bum at night the microfiber wicks the moisture away so well and we dont have to double upConsistency On the smallest size some inserts are too long for the rise of the diaper and poke out which can cause leakage The inserts arent uniform in size which isnt a huge issue but some are longer or wider than others which is just a bit annoyingOn the bulky side My bumgenius freetimes are less bulky but not by much This doesnt bother me too much since it makes perfect sense that a cloth diaper be bulkier than an uber trim disposableVerdict love them enough to buy more but would probably get the snaps next time I love that Velcro is easier to use but the diapers would last much longer with snaps Im also curious as to how the new grovias compare to the old ones I very much recommend these \n",
            "\n"
          ]
        }
      ]
    },
    {
      "cell_type": "markdown",
      "source": [
        "Here I calculate the accuracy of predictions. Function score returns the mean accuracy on the given test data and labels."
      ],
      "metadata": {
        "id": "3yriLGyv99_4"
      }
    },
    {
      "cell_type": "code",
      "execution_count": 377,
      "metadata": {
        "collapsed": true,
        "colab": {
          "base_uri": "https://localhost:8080/"
        },
        "id": "Uuv9_Ki2k7Tb",
        "outputId": "c1f32c88-6671-42aa-fba5-5a476fea0258"
      },
      "outputs": [
        {
          "output_type": "execute_result",
          "data": {
            "text/plain": [
              "0.9307506634083447"
            ]
          },
          "metadata": {},
          "execution_count": 377
        }
      ],
      "source": [
        "#d) \n",
        "model.score(X_test, y_test)"
      ]
    },
    {
      "cell_type": "markdown",
      "metadata": {
        "id": "vUp6Tvb0k7Tb"
      },
      "source": [
        "## Exercise 5\n",
        "In this exercise we will limit the dictionary of CountVectorizer to the set of significant words, defined below.\n",
        "\n",
        "\n",
        "a) Redo exercises 2-5 using limited dictionary.   \n",
        "b) Check the impact of all the words from the dictionary.   \n",
        "c) Compare accuracy of predictions and the time of evaluation."
      ]
    },
    {
      "cell_type": "markdown",
      "source": [
        "## Comment\n",
        "\n",
        "Here I repeated exercises 2-5 using limited dictionary. I dit it by specifying vocabulary(using significant_words) in CountVectorizer. And also calcutated time of model.fit function for this model.\n",
        "\n",
        "We can notice that using significant words we get others reviews. When I read them for me they were very similar. I think it is because we have less words for trainning. The results of model and impact I will disccuss in next points."
      ],
      "metadata": {
        "id": "-0EG183F-MoI"
      }
    },
    {
      "cell_type": "code",
      "execution_count": 378,
      "metadata": {
        "collapsed": true,
        "id": "XvvlFUzMk7Tb"
      },
      "outputs": [],
      "source": [
        "significant_words = ['love','great','easy','old','little','perfect','loves','well','able','car','broke','less','even','waste','disappointed','work','product','money','would','return']"
      ]
    },
    {
      "cell_type": "code",
      "execution_count": 379,
      "metadata": {
        "collapsed": true,
        "id": "e3wFnIOmk7Tb"
      },
      "outputs": [],
      "source": [
        "#a)\n",
        "from sklearn.model_selection import train_test_split\n",
        "reviews_train_df, reviews_test_df = train_test_split(baby_df, test_size=0.4)"
      ]
    },
    {
      "cell_type": "code",
      "source": [
        "X_train = reviews_train_df['review']\n",
        "y_train = reviews_train_df['rating']"
      ],
      "metadata": {
        "id": "Rw8T7bgYkaR9"
      },
      "execution_count": 380,
      "outputs": []
    },
    {
      "cell_type": "code",
      "source": [
        "X_test = reviews_test_df['review']\n",
        "y_test = reviews_test_df['rating']"
      ],
      "metadata": {
        "id": "E7akVOzYkaR9"
      },
      "execution_count": 381,
      "outputs": []
    },
    {
      "cell_type": "code",
      "source": [
        "from sklearn.feature_extraction.text import CountVectorizer\n",
        "df_vectorizer = CountVectorizer(vocabulary=significant_words)\n",
        "\n",
        "X_train = df_vectorizer.fit_transform(X_train)\n",
        "X_test = df_vectorizer.transform(X_test)"
      ],
      "metadata": {
        "id": "MHzAUlnBUOHA"
      },
      "execution_count": 382,
      "outputs": []
    },
    {
      "cell_type": "code",
      "source": [
        "model = LogisticRegression(max_iter=1000)\n",
        "%time model.fit(X_train, y_train)"
      ],
      "metadata": {
        "colab": {
          "base_uri": "https://localhost:8080/"
        },
        "id": "mneD0sT3URUQ",
        "outputId": "2336a784-0bc2-4171-fe2c-fbb6db4f7046"
      },
      "execution_count": 393,
      "outputs": [
        {
          "output_type": "stream",
          "name": "stdout",
          "text": [
            "CPU times: user 521 ms, sys: 4.5 ms, total: 526 ms\n",
            "Wall time: 547 ms\n"
          ]
        },
        {
          "output_type": "execute_result",
          "data": {
            "text/plain": [
              "LogisticRegression(max_iter=1000)"
            ]
          },
          "metadata": {},
          "execution_count": 393
        }
      ]
    },
    {
      "cell_type": "code",
      "execution_count": 384,
      "metadata": {
        "collapsed": true,
        "colab": {
          "base_uri": "https://localhost:8080/"
        },
        "outputId": "cb7e0ac5-0d0e-4a22-e890-012781f3ae0b",
        "id": "Vn_0gsG7ksan"
      },
      "outputs": [
        {
          "output_type": "stream",
          "name": "stdout",
          "text": [
            "Positive\n",
            "coef: [1.7782034]     word: ['loves']\n",
            "coef: [1.46231894]     word: ['perfect']\n",
            "coef: [1.38115099]     word: ['love']\n",
            "coef: [1.17731017]     word: ['easy']\n",
            "coef: [0.95897369]     word: ['great']\n",
            "coef: [0.50269334]     word: ['little']\n",
            "coef: [0.46837384]     word: ['well']\n",
            "coef: [0.20695297]     word: ['able']\n",
            "coef: [0.04801978]     word: ['old']\n",
            "coef: [0.03910323]     word: ['car']\n",
            "\n",
            "Negative\n",
            "coef: [-2.4047427]     word: ['disappointed']\n",
            "coef: [-2.15554998]     word: ['return']\n",
            "coef: [-1.94311948]     word: ['waste']\n",
            "coef: [-1.66275156]     word: ['broke']\n",
            "coef: [-0.95430416]     word: ['money']\n",
            "coef: [-0.61905652]     word: ['work']\n",
            "coef: [-0.53301052]     word: ['even']\n",
            "coef: [-0.33390596]     word: ['would']\n",
            "coef: [-0.30499985]     word: ['product']\n",
            "coef: [-0.22761133]     word: ['less']\n"
          ]
        }
      ],
      "source": [
        "ten_positive = sorted(model.coef_[0])[-10:]\n",
        "ten_negative = sorted(model.coef_[0])[:10]\n",
        "\n",
        "print('Positive')\n",
        "for item in reversed(ten_positive):\n",
        "    index = np.where(model.coef_[0] == item)\n",
        "    print(f'coef: {model.coef_[0][index]}     word: {df_vectorizer.get_feature_names_out()[index]}')\n",
        "\n",
        "print('\\nNegative')\n",
        "for item in ten_negative:\n",
        "    index = np.where(model.coef_[0] == item)\n",
        "    print(f'coef: {model.coef_[0][index]}     word: {df_vectorizer.get_feature_names_out()[index]}')"
      ]
    },
    {
      "cell_type": "code",
      "execution_count": 385,
      "metadata": {
        "collapsed": true,
        "colab": {
          "base_uri": "https://localhost:8080/"
        },
        "outputId": "728d594c-fd2b-434c-9595-07379402fadb",
        "id": "uFI_kCYfwYVn"
      },
      "outputs": [
        {
          "output_type": "execute_result",
          "data": {
            "text/plain": [
              "array([1, 1, 1, ..., 1, 1, 1])"
            ]
          },
          "metadata": {},
          "execution_count": 385
        }
      ],
      "source": [
        "model.predict(X_test)"
      ]
    },
    {
      "cell_type": "code",
      "execution_count": 386,
      "metadata": {
        "collapsed": true,
        "colab": {
          "base_uri": "https://localhost:8080/"
        },
        "outputId": "d82cc843-9862-4b2e-caad-f5dbe9151638",
        "id": "rdRp_a4dwYVn"
      },
      "outputs": [
        {
          "output_type": "stream",
          "name": "stdout",
          "text": [
            "[[0.09383961 0.90616039]\n",
            " [0.15118412 0.84881588]\n",
            " [0.07684791 0.92315209]\n",
            " ...\n",
            " [0.21271191 0.78728809]\n",
            " [0.02344678 0.97655322]\n",
            " [0.12423148 0.87576852]]\n"
          ]
        }
      ],
      "source": [
        "pr_proba = model.predict_proba(X_test)\n",
        "print(pr_proba)"
      ]
    },
    {
      "cell_type": "code",
      "source": [
        "ids_neg = np.arange(pr_proba[:, 0].shape[0])\n",
        "res_neg = sorted(ids_neg, key=lambda x: pr_proba[:, 0][x])\n",
        "\n",
        "ids_pos = np.arange(pr_proba[:, 1].shape[0])\n",
        "res_pos = sorted(ids_pos, key=lambda x: pr_proba[:, 1][x])"
      ],
      "metadata": {
        "id": "_pCLskTGwYVn"
      },
      "execution_count": 387,
      "outputs": []
    },
    {
      "cell_type": "code",
      "source": [
        "print('Negative Review:')\n",
        "for index in reversed(res_neg[:5]):\n",
        "    print(f\"{reviews_test_df['review'].iloc[index]} \\n\")"
      ],
      "metadata": {
        "colab": {
          "base_uri": "https://localhost:8080/"
        },
        "outputId": "f78711a3-2276-4a2f-a7a4-1da011664654",
        "id": "Ig24w3rDwYVn"
      },
      "execution_count": 388,
      "outputs": [
        {
          "output_type": "stream",
          "name": "stdout",
          "text": [
            "Negative Review:\n",
            "We bought this stroller after selling our beloved BOB rev on craigslist We used the BOB for 9 months for my son but it just wasnt practical I dont jogrun it didnt have a big basket and was very bulky to take into stores quickly However I did love how it unfolded easily but it was heavy to fold up and lift into my small trunk myself Overall I didnt realize what Id need in a stroller until AFTER I had my son Live  learn We did love how easily the BOB would go over pretty much anything Nevertheless we sold it and after extensive research on strollers we decided it was between the uppababy brand because of the large baskets OR the city mini GT because of its easy fold up design After looking over both strollers I decided on the uppababy cruz because of a few main factors It SITS UP I cant tell you how much my son hates being reclined when he is just riding in the stroller and not napping The BOB and the City Mini had a slight recline and he always tried sitting more upright The uppababy sits up like your sitting in a chair He loves it It also reclines nearly flat The foot rest can be positioned upwards so that its as if he is sitting on the floor because he is so upright and his feet are out in front of him Also the LARGE basket was a HUGE plus I cant tell you how great evvvvverything fits in there Its perfect and soooo easily accessable The city mini gt did NOT have a big enough basket for me and there for was not the right choice for me despite the very easy fold up The true test for us was this past weekend when we took it to Maine on a camping trip YES it is no BOB However I thought it was just fine over the rough bumps of a campground Bumpy ride Yes But nothing my 10 month old couldnt handle and honestly It wasnt that bad We took it to old orchard beach and as I suspected it didnt roll over the sand like my good old BOB did But it rolls really nicely on pavement and I just carried my son over to the beach and I figure he will be 1 soon enough and walking so I wont need the stroller on the beach anyways I also love the reversable seat that comes in handy because my son is going through some sort of attachment to mommy thing so he likes being able to face me from time to time I also love that the Cruz is a less expencive option to the Vista The vista is much much heavier and a little bigger And since we didnt need the extras that the Vista comes with this was the better option for us Also I called Uppababy and asked about a belly bar and toddler board for the cruz and they told me that BOTH would be available The belly bar will be out this summer and the board is in producton huge plus So for us this stroller was a hit but as anything goes you MUST research what YOU need in a stroller and figure out whats important to you Some people dont care about a big basket and in that case id for sure go with the City mini gtUPDATE1713We are in LOVE with this stroller still It fits great in the trunk of my saturn ion and how I fold it is I take the seat off first takes 1 second and then fold the frame I found it fits and folds better that way plus some times my son likes to sit forward and sometimes backwards still so I just set up the frame and then throw the seat on top depending on which way i think he wants to sit The basket is just my fave feature I cant tell you how happy I have been with the uppababby My son is 16 months old and loves sitting in his uppababy well worth it still \n",
            "\n",
            "PROS1 Good to grow with a toddler Its perfect for my 8 month old  an active 28 month old who will soon grow out of sitting in a seat The second seat is easy to install  will be easy to remove later when hes older2 Compact I like this stroller because its much more compact than a typical double stroller In fact it seems to be a stroller  a half which is what I wanted I had tested some other doubles and they were so bulky and heavy I questioned if theyd even fit in the back of my 4Runner The Joovy Caboose Too fits so well in my 4Runner It would also be perfectly fine when Im just using it for one child Some of the other double strollers seemed to be a ridiculous choice for later when only one child will use it3 Easy to assemble I did it myself no problem4 GREAT shade works perfect for shading both kids Its big  easy to move When youre inside you can fold it to the top  easily see the front child This was also something I was looking for My baby jogger city mini has the best shade but this one is very comparible5 Folds in one piece It folds up in one piece unlike the baby jogger city select which you have to remove one seat to fold That was a key feature in choosing the Joovy Caboose Too because of the possibility of airplane travel Easy to unfold  snaps into place6 Value for a double stroller  its a great deal I got free shipping Babies RUS and it included a free parent organizer7 Child treat tray in the front essential for my toddler Although sometimes he chooses to sit in the back which doesnt have a tray8 Tandem style the front to back allows you to easy maneuver store aisles go through doors  easily load your kids with it parked between cars Its also not so long that you feel like youre pushing a train or bus9 Other positive features the straps are easy to use  adjust They seem to hold the child fine The seats recline which is also good The material seems very easy to clean  durableCONS1 The biggest negative is the frame doesnt feel that sturdy We have a baby jogger city mini single  absolutely LOVE that stroller The Joovy Caboose Too is a little more wobbly when walking on streets If theres an even slight slope from street to curbside then it pulls towards the slope That appears to be a result of the frame  not the wheels or shocks My husband also commented on the wobbly  nonsturdy feeling I will say that my purposes were to go to the mall  do walks not runs For the most part it works fine but the frame is the only reason I didnt give it 5 stars2 Folding It does require 2 hands to fold up It folds best when front wheels are locked so it does seem to be a step process3 When the second seat is installed  a child is sitting in that seat  the storage basket becomes pretty useless When my 28 month old sits in the back his feet are basically in the storage basket You can however put things on the step platform on the back Thats handy to do when shopping I use a mommy hook and hang the diaper bag from the handle Not sure they recommend that but my bag is not too heavy4 The push handle is not adjustable  seems a little high Im 54 but it actually doesnt bother meThats pretty much it I think its a great value for such a compact yet very usefully designed stroller \n",
            "\n",
            "My daughter 8 months old loves this toy and has for a few months I love it too  Its not only a stacking toy but several toys in one each providing development benefits The removable elephant head serves as a funnel into which you drop balls  The head itself is fun since the ears crinkle and the hair is little knots that provide tactile sensation  My daughter loves to grab it and wave it around Each stackable ring is soft and easy for my daughter to grab and wave around which she loves to do  Two of the rings the elephant feet have Velcro joining the feet that my daughter can separate and rejoin The 4 different colored balls rattle and each has a different patter pressed on it  My daughter loves to shake the balls which fit perfectly into her hands  but not her mouth and she also loves to feel the patterns on the balls When you drop the balls into the funnelchute it plays a song which you can disable  The balls then roll out the door which can be closed  Great for teaching causeandeffect as well as objectpermanence  My daughter leaned that there a balls behind the door and loves to open it to get them outThis is a wellthoughtout toy that fosters her development and my daughter loves it \n",
            "\n",
            "We bought this stroller about 2 weeks ago I absolutely love it I have a 3 year old and a 5 month old They both fit in the stroller great My 3 yr old was so excited about this stroller He loves the color blue the canopies the UV shade everything He is looking forward to using the boot this winter I love love love the big basket Yes there is a bar across it However I am able to get a backpack in over the bar To take it out we just unsnap the back of the basket and pull the backpack under the bar It really is easy The stroller steers well I have not noticed it pulling to one side despite the 15 pound weight difference between my boys We have not used the rain shield but the UV shade is great The canopy will cover the whole front of the stroller but the UV shade keeps the boys shady when they want to be able to look out The infant boot works well It is meant to go across the whole front but is possible to use it on just one side The harness is easy to adjust We were using the Combi Citty Savvy single It had the worst harness adjusters The Maclaren Techno uses the same crappy adjusters On the Tango you just slide the clip up or down It is simple and it stays put The harness fits both of my boys The seats recline nicely the canopies are huge The stroller is easy to steer and the handle is comfortable I have done a little onehanded steering but that is not easy It is a double stroller after all The Tango is a great looking stroller I have read reviews in which people talked about wanting a stroller that looked good I thought that was silly However we have gotten so many comments on this stroller I have to admit that it is a little flattering Silly but true Someone complained about having trouble opening the stroller It is challenging at first We finally figured out that you have to push down on the little handle on the side of the stroller You pull that handle to close it and push it to open it Once you figure that out it is super easy to open My one complaint is that the stroller is pretty large when folded I have two carseats tethered in the back of my 2004 Odyssey In order to get the stroller in I have to loosen one of the tethers first We put the stroller under the tether then tighten the tether I am able to fit bags in front of and beside the stroller but it takes up A LOT of room We are going out of town later this month and I have no idea how I am going to fit in our luggage with the stroller I am considering strapping the stroller on the roof So if a small fold is a must go with the Combi or McLaren I thought both of those were rather flimsy though The McLaren was VERY narrow and had shallow seats We decided we would just live with the large fold and get the Zooper I am SO glad we did It is well worth the money \n",
            "\n",
            "Check and recheck the KTan for size issues before letting your guard down and wearing NO ISSUES OCCURED however I thought I was good to go and then realized that this large was different than the large I had been given before it Odd but fabric This makes the moby wrap appear like a midevil torture devise and bonus you wont have to worry about some BabyWearing freak watching you in the parking lot at the mall as you struggle to turn a bolt of fabric into what the KTan has simplifiedseriously Dad approved and if the moby is your thing thats cool just perhaps realize that its not as easy as everyone thinks to wrap that amount of fabric around yourself evenly snug comfortable and without mummifying yourself and lord help you your baby  Another bonus to the KTAN issue with baby takes only a second to move her out of the KTAN but in a moby We thought for the first two days after returning the moby 34have you seen Katy34love it love it love it love it love it love it love it love it love it love it love it love it love it love it love it love it love it love it love it love it love it love it love it love it love it love it love it love it love it love it love it love it love it love it love it love it love it love it love it \n",
            "\n"
          ]
        }
      ]
    },
    {
      "cell_type": "code",
      "source": [
        "print('Positive Review:')\n",
        "for index in reversed(res_pos[-5:]):\n",
        "    print(f\"{reviews_test_df['review'].iloc[index]} \\n\")"
      ],
      "metadata": {
        "colab": {
          "base_uri": "https://localhost:8080/"
        },
        "outputId": "fe9c3fc4-5214-4a81-bc7a-b308b15cc3b0",
        "id": "f2Xfc1kAwYVo"
      },
      "execution_count": 389,
      "outputs": [
        {
          "output_type": "stream",
          "name": "stdout",
          "text": [
            "Positive Review:\n",
            "Check and recheck the KTan for size issues before letting your guard down and wearing NO ISSUES OCCURED however I thought I was good to go and then realized that this large was different than the large I had been given before it Odd but fabric This makes the moby wrap appear like a midevil torture devise and bonus you wont have to worry about some BabyWearing freak watching you in the parking lot at the mall as you struggle to turn a bolt of fabric into what the KTan has simplifiedseriously Dad approved and if the moby is your thing thats cool just perhaps realize that its not as easy as everyone thinks to wrap that amount of fabric around yourself evenly snug comfortable and without mummifying yourself and lord help you your baby  Another bonus to the KTAN issue with baby takes only a second to move her out of the KTAN but in a moby We thought for the first two days after returning the moby 34have you seen Katy34love it love it love it love it love it love it love it love it love it love it love it love it love it love it love it love it love it love it love it love it love it love it love it love it love it love it love it love it love it love it love it love it love it love it love it love it love it love it love it \n",
            "\n",
            "We bought this stroller about 2 weeks ago I absolutely love it I have a 3 year old and a 5 month old They both fit in the stroller great My 3 yr old was so excited about this stroller He loves the color blue the canopies the UV shade everything He is looking forward to using the boot this winter I love love love the big basket Yes there is a bar across it However I am able to get a backpack in over the bar To take it out we just unsnap the back of the basket and pull the backpack under the bar It really is easy The stroller steers well I have not noticed it pulling to one side despite the 15 pound weight difference between my boys We have not used the rain shield but the UV shade is great The canopy will cover the whole front of the stroller but the UV shade keeps the boys shady when they want to be able to look out The infant boot works well It is meant to go across the whole front but is possible to use it on just one side The harness is easy to adjust We were using the Combi Citty Savvy single It had the worst harness adjusters The Maclaren Techno uses the same crappy adjusters On the Tango you just slide the clip up or down It is simple and it stays put The harness fits both of my boys The seats recline nicely the canopies are huge The stroller is easy to steer and the handle is comfortable I have done a little onehanded steering but that is not easy It is a double stroller after all The Tango is a great looking stroller I have read reviews in which people talked about wanting a stroller that looked good I thought that was silly However we have gotten so many comments on this stroller I have to admit that it is a little flattering Silly but true Someone complained about having trouble opening the stroller It is challenging at first We finally figured out that you have to push down on the little handle on the side of the stroller You pull that handle to close it and push it to open it Once you figure that out it is super easy to open My one complaint is that the stroller is pretty large when folded I have two carseats tethered in the back of my 2004 Odyssey In order to get the stroller in I have to loosen one of the tethers first We put the stroller under the tether then tighten the tether I am able to fit bags in front of and beside the stroller but it takes up A LOT of room We are going out of town later this month and I have no idea how I am going to fit in our luggage with the stroller I am considering strapping the stroller on the roof So if a small fold is a must go with the Combi or McLaren I thought both of those were rather flimsy though The McLaren was VERY narrow and had shallow seats We decided we would just live with the large fold and get the Zooper I am SO glad we did It is well worth the money \n",
            "\n",
            "My daughter 8 months old loves this toy and has for a few months I love it too  Its not only a stacking toy but several toys in one each providing development benefits The removable elephant head serves as a funnel into which you drop balls  The head itself is fun since the ears crinkle and the hair is little knots that provide tactile sensation  My daughter loves to grab it and wave it around Each stackable ring is soft and easy for my daughter to grab and wave around which she loves to do  Two of the rings the elephant feet have Velcro joining the feet that my daughter can separate and rejoin The 4 different colored balls rattle and each has a different patter pressed on it  My daughter loves to shake the balls which fit perfectly into her hands  but not her mouth and she also loves to feel the patterns on the balls When you drop the balls into the funnelchute it plays a song which you can disable  The balls then roll out the door which can be closed  Great for teaching causeandeffect as well as objectpermanence  My daughter leaned that there a balls behind the door and loves to open it to get them outThis is a wellthoughtout toy that fosters her development and my daughter loves it \n",
            "\n",
            "PROS1 Good to grow with a toddler Its perfect for my 8 month old  an active 28 month old who will soon grow out of sitting in a seat The second seat is easy to install  will be easy to remove later when hes older2 Compact I like this stroller because its much more compact than a typical double stroller In fact it seems to be a stroller  a half which is what I wanted I had tested some other doubles and they were so bulky and heavy I questioned if theyd even fit in the back of my 4Runner The Joovy Caboose Too fits so well in my 4Runner It would also be perfectly fine when Im just using it for one child Some of the other double strollers seemed to be a ridiculous choice for later when only one child will use it3 Easy to assemble I did it myself no problem4 GREAT shade works perfect for shading both kids Its big  easy to move When youre inside you can fold it to the top  easily see the front child This was also something I was looking for My baby jogger city mini has the best shade but this one is very comparible5 Folds in one piece It folds up in one piece unlike the baby jogger city select which you have to remove one seat to fold That was a key feature in choosing the Joovy Caboose Too because of the possibility of airplane travel Easy to unfold  snaps into place6 Value for a double stroller  its a great deal I got free shipping Babies RUS and it included a free parent organizer7 Child treat tray in the front essential for my toddler Although sometimes he chooses to sit in the back which doesnt have a tray8 Tandem style the front to back allows you to easy maneuver store aisles go through doors  easily load your kids with it parked between cars Its also not so long that you feel like youre pushing a train or bus9 Other positive features the straps are easy to use  adjust They seem to hold the child fine The seats recline which is also good The material seems very easy to clean  durableCONS1 The biggest negative is the frame doesnt feel that sturdy We have a baby jogger city mini single  absolutely LOVE that stroller The Joovy Caboose Too is a little more wobbly when walking on streets If theres an even slight slope from street to curbside then it pulls towards the slope That appears to be a result of the frame  not the wheels or shocks My husband also commented on the wobbly  nonsturdy feeling I will say that my purposes were to go to the mall  do walks not runs For the most part it works fine but the frame is the only reason I didnt give it 5 stars2 Folding It does require 2 hands to fold up It folds best when front wheels are locked so it does seem to be a step process3 When the second seat is installed  a child is sitting in that seat  the storage basket becomes pretty useless When my 28 month old sits in the back his feet are basically in the storage basket You can however put things on the step platform on the back Thats handy to do when shopping I use a mommy hook and hang the diaper bag from the handle Not sure they recommend that but my bag is not too heavy4 The push handle is not adjustable  seems a little high Im 54 but it actually doesnt bother meThats pretty much it I think its a great value for such a compact yet very usefully designed stroller \n",
            "\n",
            "We bought this stroller after selling our beloved BOB rev on craigslist We used the BOB for 9 months for my son but it just wasnt practical I dont jogrun it didnt have a big basket and was very bulky to take into stores quickly However I did love how it unfolded easily but it was heavy to fold up and lift into my small trunk myself Overall I didnt realize what Id need in a stroller until AFTER I had my son Live  learn We did love how easily the BOB would go over pretty much anything Nevertheless we sold it and after extensive research on strollers we decided it was between the uppababy brand because of the large baskets OR the city mini GT because of its easy fold up design After looking over both strollers I decided on the uppababy cruz because of a few main factors It SITS UP I cant tell you how much my son hates being reclined when he is just riding in the stroller and not napping The BOB and the City Mini had a slight recline and he always tried sitting more upright The uppababy sits up like your sitting in a chair He loves it It also reclines nearly flat The foot rest can be positioned upwards so that its as if he is sitting on the floor because he is so upright and his feet are out in front of him Also the LARGE basket was a HUGE plus I cant tell you how great evvvvverything fits in there Its perfect and soooo easily accessable The city mini gt did NOT have a big enough basket for me and there for was not the right choice for me despite the very easy fold up The true test for us was this past weekend when we took it to Maine on a camping trip YES it is no BOB However I thought it was just fine over the rough bumps of a campground Bumpy ride Yes But nothing my 10 month old couldnt handle and honestly It wasnt that bad We took it to old orchard beach and as I suspected it didnt roll over the sand like my good old BOB did But it rolls really nicely on pavement and I just carried my son over to the beach and I figure he will be 1 soon enough and walking so I wont need the stroller on the beach anyways I also love the reversable seat that comes in handy because my son is going through some sort of attachment to mommy thing so he likes being able to face me from time to time I also love that the Cruz is a less expencive option to the Vista The vista is much much heavier and a little bigger And since we didnt need the extras that the Vista comes with this was the better option for us Also I called Uppababy and asked about a belly bar and toddler board for the cruz and they told me that BOTH would be available The belly bar will be out this summer and the board is in producton huge plus So for us this stroller was a hit but as anything goes you MUST research what YOU need in a stroller and figure out whats important to you Some people dont care about a big basket and in that case id for sure go with the City mini gtUPDATE1713We are in LOVE with this stroller still It fits great in the trunk of my saturn ion and how I fold it is I take the seat off first takes 1 second and then fold the frame I found it fits and folds better that way plus some times my son likes to sit forward and sometimes backwards still so I just set up the frame and then throw the seat on top depending on which way i think he wants to sit The basket is just my fave feature I cant tell you how happy I have been with the uppababby My son is 16 months old and loves sitting in his uppababy well worth it still \n",
            "\n"
          ]
        }
      ]
    },
    {
      "cell_type": "code",
      "execution_count": 390,
      "metadata": {
        "collapsed": true,
        "colab": {
          "base_uri": "https://localhost:8080/"
        },
        "outputId": "fda2973d-e7f3-49c4-81c7-9c2b8dbb5fa4",
        "id": "KkKgUNVTwYVo"
      },
      "outputs": [
        {
          "output_type": "execute_result",
          "data": {
            "text/plain": [
              "0.866433786599901"
            ]
          },
          "metadata": {},
          "execution_count": 390
        }
      ],
      "source": [
        "model.score(X_test, y_test)"
      ]
    },
    {
      "cell_type": "markdown",
      "source": [
        " ## Comment\n",
        " Here checked the impact of all the words from the dictionary. I understood it like printing coefficients for words. And we can see the word with the largest coefficient and with the smallest."
      ],
      "metadata": {
        "id": "6WM_pnO5_OYB"
      }
    },
    {
      "cell_type": "code",
      "execution_count": 391,
      "metadata": {
        "collapsed": true,
        "id": "wkBzs8_Ck7Tb",
        "colab": {
          "base_uri": "https://localhost:8080/"
        },
        "outputId": "bfa69f19-50ac-41db-c3af-4befef7ad103"
      },
      "outputs": [
        {
          "output_type": "stream",
          "name": "stdout",
          "text": [
            "Impact:\n",
            "coef: 1.7782033978422536     word: loves\n",
            "coef: 1.4623189427749166     word: perfect\n",
            "coef: 1.381150987622393     word: love\n",
            "coef: 1.1773101655818772     word: easy\n",
            "coef: 0.9589736933476037     word: great\n",
            "coef: 0.5026933378950218     word: little\n",
            "coef: 0.4683738388298545     word: well\n",
            "coef: 0.20695296669458307     word: able\n",
            "coef: 0.048019783051560294     word: old\n",
            "coef: 0.03910323416986804     word: car\n",
            "coef: -0.2276113257969504     word: less\n",
            "coef: -0.3049998483495305     word: product\n",
            "coef: -0.3339059558741242     word: would\n",
            "coef: -0.5330105223344395     word: even\n",
            "coef: -0.6190565166327158     word: work\n",
            "coef: -0.9543041592237376     word: money\n",
            "coef: -1.6627515600010505     word: broke\n",
            "coef: -1.9431194802202838     word: waste\n",
            "coef: -2.1555499769131585     word: return\n",
            "coef: -2.4047426957775953     word: disappointed\n"
          ]
        }
      ],
      "source": [
        "#b)\n",
        "ids_c =  np.arange(model.coef_[0].shape[0])\n",
        "res_c = sorted(ids_c, key=lambda x: model.coef_[0][x],reverse=True)\n",
        "\n",
        "print('Impact:')\n",
        "for index in res_c:\n",
        "    print(f'coef: {model.coef_[0][index]}     word: {df_vectorizer.get_feature_names_out()[index]}')"
      ]
    },
    {
      "cell_type": "markdown",
      "source": [
        "## Comment\n",
        "\n",
        "Compare accuracy of predictions and the time of evaluation.\n",
        "\n",
        "The accuracy of our first model was 0.9307506634083447.<p>\n",
        "Here we have 0.866433786599901.<p>\n",
        "\n",
        "It's a big difference and reason of it was in amount of our train data and lenght of our vacabulary for learning. Using limited dictionary model will have smaller accuracy\n",
        "\n",
        "\n",
        "For time of evaluation:<p>\n",
        "\n",
        " - Time for **first model** where we have all words:\n",
        "\n",
        "    CPU times: user 1min 30s, sys: 1min 46s, total: 3min 17s<p>\n",
        "    Wall time: 1min 44s\n",
        "\n",
        " - Time for **second model** where we have only 20 words: \n",
        "    CPU times: user 521 ms, sys: 4.5 ms, total: 526 ms<p>\n",
        "    Wall time: 547 ms\n",
        "\n",
        "So we can see that the more words and \"opportunity\" for learning we have, the longer it takes to learn."
      ],
      "metadata": {
        "id": "mnIqiHNT_5Np"
      }
    },
    {
      "cell_type": "code",
      "execution_count": 392,
      "metadata": {
        "collapsed": true,
        "id": "CAhzpHlqk7Tb",
        "colab": {
          "base_uri": "https://localhost:8080/"
        },
        "outputId": "09ef204a-7980-4767-d804-ba0eb4438919"
      },
      "outputs": [
        {
          "output_type": "execute_result",
          "data": {
            "text/plain": [
              "0.866433786599901"
            ]
          },
          "metadata": {},
          "execution_count": 392
        }
      ],
      "source": [
        "#c)\n",
        "model.score(X_test, y_test)\n",
        "#hint: %time, %timeit"
      ]
    }
  ],
  "metadata": {
    "anaconda-cloud": {},
    "kernelspec": {
      "display_name": "Python [conda env:anaconda2]",
      "language": "python",
      "name": "conda-env-anaconda2-py"
    },
    "language_info": {
      "codemirror_mode": {
        "name": "ipython",
        "version": 2
      },
      "file_extension": ".py",
      "mimetype": "text/x-python",
      "name": "python",
      "nbconvert_exporter": "python",
      "pygments_lexer": "ipython2",
      "version": "2.7.12"
    },
    "colab": {
      "provenance": []
    }
  },
  "nbformat": 4,
  "nbformat_minor": 0
}